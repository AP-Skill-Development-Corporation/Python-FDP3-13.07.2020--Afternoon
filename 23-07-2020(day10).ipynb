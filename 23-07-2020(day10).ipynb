{
 "cells": [
  {
   "cell_type": "markdown",
   "metadata": {},
   "source": [
    "# Good afternoon"
   ]
  },
  {
   "cell_type": "code",
   "execution_count": 3,
   "metadata": {},
   "outputs": [
    {
     "data": {
      "text/plain": [
       "[3, 4]"
      ]
     },
     "execution_count": 3,
     "metadata": {},
     "output_type": "execute_result"
    }
   ],
   "source": [
    "a = [1,2,3,4,1,2]\n",
    "b = [i for i in a if a.count(i)==1]\n",
    "b"
   ]
  },
  {
   "cell_type": "markdown",
   "metadata": {},
   "source": [
    "# oops concept"
   ]
  },
  {
   "cell_type": "code",
   "execution_count": 4,
   "metadata": {},
   "outputs": [],
   "source": [
    "# Class & Objects"
   ]
  },
  {
   "cell_type": "code",
   "execution_count": 6,
   "metadata": {},
   "outputs": [],
   "source": [
    "#class classname():\n",
    "#    statements\n",
    "class A:\n",
    "    pass"
   ]
  },
  {
   "cell_type": "code",
   "execution_count": 14,
   "metadata": {},
   "outputs": [
    {
     "name": "stdout",
     "output_type": "stream",
     "text": [
      "10\n",
      "400\n",
      "400\n"
     ]
    }
   ],
   "source": [
    "class A:\n",
    "    x = 10\n",
    "    y = 20\n",
    "print(A.x)\n",
    "z = A\n",
    "z.y = 400\n",
    "print(z.y)\n",
    "r = A\n",
    "print(r.y)"
   ]
  },
  {
   "cell_type": "code",
   "execution_count": 23,
   "metadata": {},
   "outputs": [
    {
     "name": "stdout",
     "output_type": "stream",
     "text": [
      "20\n",
      "i am a constructor\n"
     ]
    },
    {
     "data": {
      "text/plain": [
       "20"
      ]
     },
     "execution_count": 23,
     "metadata": {},
     "output_type": "execute_result"
    }
   ],
   "source": [
    "class A:\n",
    "    y = 20\n",
    "    def __init__(self):\n",
    "        print('i am a constructor')\n",
    "x = A\n",
    "print(x.y)\n",
    "z = A()\n",
    "z.y"
   ]
  },
  {
   "cell_type": "code",
   "execution_count": 34,
   "metadata": {},
   "outputs": [
    {
     "name": "stdout",
     "output_type": "stream",
     "text": [
      "i am a constructor with aruguments\n",
      "3 8\n"
     ]
    }
   ],
   "source": [
    "class A:\n",
    "    def __init__(self,a,b=20):\n",
    "        print('i am a constructor with aruguments')\n",
    "        print(a,b)\n",
    "x = A(3,8)"
   ]
  },
  {
   "cell_type": "code",
   "execution_count": 36,
   "metadata": {},
   "outputs": [
    {
     "ename": "TypeError",
     "evalue": "__init__() missing 1 required positional argument: 'a'",
     "output_type": "error",
     "traceback": [
      "\u001b[1;31m---------------------------------------------------------------------------\u001b[0m",
      "\u001b[1;31mTypeError\u001b[0m                                 Traceback (most recent call last)",
      "\u001b[1;32m<ipython-input-36-206ec5c2e539>\u001b[0m in \u001b[0;36m<module>\u001b[1;34m\u001b[0m\n\u001b[0;32m      4\u001b[0m     \u001b[1;32mdef\u001b[0m \u001b[0m__init__\u001b[0m\u001b[1;33m(\u001b[0m\u001b[0mself\u001b[0m\u001b[1;33m,\u001b[0m\u001b[0ma\u001b[0m\u001b[1;33m)\u001b[0m\u001b[1;33m:\u001b[0m\u001b[1;33m\u001b[0m\u001b[1;33m\u001b[0m\u001b[0m\n\u001b[0;32m      5\u001b[0m         \u001b[0mprint\u001b[0m\u001b[1;33m(\u001b[0m\u001b[1;34m'i am ending constructor'\u001b[0m\u001b[1;33m)\u001b[0m\u001b[1;33m\u001b[0m\u001b[1;33m\u001b[0m\u001b[0m\n\u001b[1;32m----> 6\u001b[1;33m \u001b[0mx\u001b[0m \u001b[1;33m=\u001b[0m \u001b[0mA\u001b[0m\u001b[1;33m(\u001b[0m\u001b[1;33m)\u001b[0m\u001b[1;33m\u001b[0m\u001b[1;33m\u001b[0m\u001b[0m\n\u001b[0m",
      "\u001b[1;31mTypeError\u001b[0m: __init__() missing 1 required positional argument: 'a'"
     ]
    }
   ],
   "source": [
    "class A:\n",
    "    def __init__(self):\n",
    "        print('i am starting constructor')\n",
    "    def __init__(self,a):\n",
    "        print('i am ending constructor')\n",
    "x = A()"
   ]
  },
  {
   "cell_type": "code",
   "execution_count": 42,
   "metadata": {},
   "outputs": [
    {
     "name": "stdout",
     "output_type": "stream",
     "text": [
      "(1,) 20\n",
      "<class 'tuple'>\n",
      "(1, 2) 37\n",
      "<class 'tuple'>\n",
      "(1, 2, 3, 4, 5, 6) 67\n",
      "<class 'tuple'>\n"
     ]
    }
   ],
   "source": [
    "class A:\n",
    "    def __init__(self,*a,b):\n",
    "        print(a,b)\n",
    "        print(type(a))\n",
    "x = A(1,b=20)\n",
    "y = A(1,2,b=37)\n",
    "z = A(1,2,3,4,5,6,b=67)"
   ]
  },
  {
   "cell_type": "code",
   "execution_count": 51,
   "metadata": {},
   "outputs": [
    {
     "name": "stdout",
     "output_type": "stream",
     "text": [
      "False\n"
     ]
    }
   ],
   "source": [
    "class A:\n",
    "    def iseven(a):\n",
    "        if a%2 == 0:\n",
    "            return True\n",
    "        return False\n",
    "A.iseven(4)\n",
    "x = A\n",
    "print(x.iseven(7))"
   ]
  },
  {
   "cell_type": "code",
   "execution_count": 53,
   "metadata": {},
   "outputs": [
    {
     "name": "stdout",
     "output_type": "stream",
     "text": [
      "i am  phani\n"
     ]
    }
   ],
   "source": [
    "class A:\n",
    "    def __init__(self,name):\n",
    "        self.name = name\n",
    "    def display(self):\n",
    "        print('i am ',self.name)\n",
    "    def \n",
    "x = A('phani')\n",
    "x.display()"
   ]
  },
  {
   "cell_type": "code",
   "execution_count": 54,
   "metadata": {},
   "outputs": [
    {
     "name": "stdout",
     "output_type": "stream",
     "text": [
      "i am phani\n"
     ]
    }
   ],
   "source": [
    "class A:\n",
    "    def details():\n",
    "        print('i am phani')\n",
    "A.details()"
   ]
  },
  {
   "cell_type": "code",
   "execution_count": 59,
   "metadata": {},
   "outputs": [
    {
     "name": "stdout",
     "output_type": "stream",
     "text": [
      "phani\n",
      "3456789\n",
      "ramu\n",
      "5678\n",
      "raja\n",
      "345678\n",
      "phani 3456789\n",
      "ramu 5678\n",
      "raja 345678\n",
      "[<__main__.A object at 0x000000000542F148>, <__main__.A object at 0x000000000542F908>, <__main__.A object at 0x000000000542FCC8>]\n"
     ]
    }
   ],
   "source": [
    "class A:\n",
    "    def __init__(self,name,number):\n",
    "        self.name = name\n",
    "        self.number = number\n",
    "    def display(self):\n",
    "        print(self.name,self.number)\n",
    "#x = A('phani','2356789')\n",
    "#y = A('raja','3456789')\n",
    "#x.display()\n",
    "#y.display()\n",
    "a = []\n",
    "for i in range(0,3):\n",
    "    a.append(A(input(),input()))\n",
    "for i in a:\n",
    "    i.display()\n",
    "print(a)"
   ]
  },
  {
   "cell_type": "code",
   "execution_count": null,
   "metadata": {},
   "outputs": [],
   "source": []
  },
  {
   "cell_type": "markdown",
   "metadata": {},
   "source": [
    "# Inheritance"
   ]
  },
  {
   "cell_type": "code",
   "execution_count": 69,
   "metadata": {},
   "outputs": [
    {
     "name": "stdout",
     "output_type": "stream",
     "text": [
      "phani\n"
     ]
    }
   ],
   "source": [
    "# Single Inheritance\n",
    "# class derivedclassname(baseclassname or names):\n",
    "class A:\n",
    "    def details(self):\n",
    "        self.name = 'phani'\n",
    "class B(A):\n",
    "    def display(self):\n",
    "        print(self.name)\n",
    "x = B()\n",
    "x.details()\n",
    "x.display()"
   ]
  },
  {
   "cell_type": "code",
   "execution_count": 77,
   "metadata": {},
   "outputs": [
    {
     "name": "stdout",
     "output_type": "stream",
     "text": [
      "i am derived class constructor\n"
     ]
    }
   ],
   "source": [
    "class A:\n",
    "    def __init__(self,a):\n",
    "        print('i am base class constructor')\n",
    "class B(A):\n",
    "    def __init__(self):\n",
    "        print('i am derived class constructor')\n",
    "x = B()"
   ]
  },
  {
   "cell_type": "code",
   "execution_count": 76,
   "metadata": {},
   "outputs": [
    {
     "name": "stdout",
     "output_type": "stream",
     "text": [
      "i am derived class constructor\n",
      "i am base class constructor\n",
      "i am from base class\n"
     ]
    }
   ],
   "source": [
    "class A:\n",
    "    def __init__(self):\n",
    "        print('i am base class constructor')\n",
    "    def display(self):\n",
    "        print('i am from base class')\n",
    "class B(A):\n",
    "    def __init__(self):\n",
    "        print('i am derived class constructor')\n",
    "        super().__init__()\n",
    "        super().display()\n",
    "x = B()"
   ]
  },
  {
   "cell_type": "code",
   "execution_count": 81,
   "metadata": {},
   "outputs": [
    {
     "name": "stdout",
     "output_type": "stream",
     "text": [
      "i am from C class\n",
      "i am from A class\n",
      "i am from A class\n"
     ]
    }
   ],
   "source": [
    "# multiple inheritance\n",
    "class A():\n",
    "    def display1():\n",
    "        print('i am from A class')\n",
    "class B():\n",
    "    def display1():\n",
    "        print('i am from B class')\n",
    "class C(A,B):\n",
    "    def display():\n",
    "        print('i am from C class')\n",
    "x = C()\n",
    "C.display()\n",
    "C.display1()\n",
    "C.display1()"
   ]
  },
  {
   "cell_type": "code",
   "execution_count": 85,
   "metadata": {},
   "outputs": [
    {
     "name": "stdout",
     "output_type": "stream",
     "text": [
      "i am from class - A\n",
      "i am from class - B\n",
      "i am from class - C\n"
     ]
    }
   ],
   "source": [
    "# multilevel inheritance\n",
    "# A->B->C...\n",
    "class A:\n",
    "    def display1():\n",
    "        print('i am from class - A')\n",
    "class B(A):\n",
    "    def display2():\n",
    "        print('i am from class - B')\n",
    "class C(B):\n",
    "    def display3():\n",
    "        print('i am from class - C')\n",
    "x = C\n",
    "x.display1()\n",
    "x.display2()\n",
    "x.display3()"
   ]
  },
  {
   "cell_type": "code",
   "execution_count": 86,
   "metadata": {},
   "outputs": [
    {
     "name": "stdout",
     "output_type": "stream",
     "text": [
      "i am from class - A\n",
      "i am from class - B\n",
      "i am from class - A\n",
      "i am from class - C\n"
     ]
    }
   ],
   "source": [
    "# Hierarchical inheritance\n",
    "# A->B,A->C....\n",
    "class A:\n",
    "    def display1():\n",
    "        print('i am from class - A')\n",
    "class B(A):\n",
    "    def display2():\n",
    "        print('i am from class - B')\n",
    "class C(A):\n",
    "    def display3():\n",
    "        print('i am from class - C')\n",
    "x = B\n",
    "x.display1()\n",
    "x.display2()\n",
    "y = C\n",
    "y.display1()\n",
    "y.display3()"
   ]
  },
  {
   "cell_type": "code",
   "execution_count": 87,
   "metadata": {},
   "outputs": [
    {
     "name": "stdout",
     "output_type": "stream",
     "text": [
      "i am from class - A\n",
      "i am from class - B\n",
      "i am from class - C\n",
      "i am from class - A\n",
      "i am from class - D\n"
     ]
    }
   ],
   "source": [
    "# hybrid inheritance\n",
    "class A:\n",
    "    def display1():\n",
    "        print('i am from class - A')\n",
    "class B(A):\n",
    "    def display2():\n",
    "        print('i am from class - B')\n",
    "class C(B):\n",
    "    def display3():\n",
    "        print('i am from class - C')\n",
    "class D(A):\n",
    "    def display4():\n",
    "        print('i am from class - D')\n",
    "x = C\n",
    "x.display1()\n",
    "x.display2()\n",
    "x.display3()\n",
    "y = D\n",
    "y.display1()\n",
    "y.display4()"
   ]
  },
  {
   "cell_type": "code",
   "execution_count": 88,
   "metadata": {},
   "outputs": [
    {
     "name": "stdout",
     "output_type": "stream",
     "text": [
      "phani 35678\n",
      "Ramu 34567\n"
     ]
    }
   ],
   "source": [
    "class A:\n",
    "    def __init__(self,name,number):\n",
    "        print(name,number)\n",
    "x = A('phani',35678)\n",
    "y = A('Ramu',34567)\n",
    "a = []\n",
    "for i in ra"
   ]
  },
  {
   "cell_type": "code",
   "execution_count": null,
   "metadata": {},
   "outputs": [],
   "source": []
  }
 ],
 "metadata": {
  "kernelspec": {
   "display_name": "Python 3",
   "language": "python",
   "name": "python3"
  },
  "language_info": {
   "codemirror_mode": {
    "name": "ipython",
    "version": 3
   },
   "file_extension": ".py",
   "mimetype": "text/x-python",
   "name": "python",
   "nbconvert_exporter": "python",
   "pygments_lexer": "ipython3",
   "version": "3.7.6"
  }
 },
 "nbformat": 4,
 "nbformat_minor": 4
}
