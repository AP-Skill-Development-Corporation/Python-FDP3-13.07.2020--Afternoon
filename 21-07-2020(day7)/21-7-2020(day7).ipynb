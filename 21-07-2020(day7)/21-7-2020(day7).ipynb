{
 "cells": [
  {
   "cell_type": "markdown",
   "metadata": {},
   "source": [
    "## Packages and Modules\n",
    "## File Handling"
   ]
  },
  {
   "cell_type": "code",
   "execution_count": 1,
   "metadata": {},
   "outputs": [
    {
     "name": "stdout",
     "output_type": "stream",
     "text": [
      "\n",
      "Please wait a moment while I gather a list of all available modules...\n",
      "\n"
     ]
    },
    {
     "name": "stderr",
     "output_type": "stream",
     "text": [
      "C:\\Users\\Alekhya\\Anaconda3\\lib\\site-packages\\IPython\\kernel\\__init__.py:13: ShimWarning: The `IPython.kernel` package has been deprecated since IPython 4.0.You should import from ipykernel or jupyter_client instead.\n",
      "  \"You should import from ipykernel or jupyter_client instead.\", ShimWarning)\n",
      "WARNING: AstropyDeprecationWarning: astropy.utils.compat.futures is now deprecated - use concurrent.futures instead [astropy.utils.compat.futures]\n",
      "WARNING: The conda.compat module is deprecated and will be removed in a future release.\n",
      "C:\\Users\\Alekhya\\Anaconda3\\lib\\site-packages\\dask\\config.py:168: YAMLLoadWarning: calling yaml.load() without Loader=... is deprecated, as the default Loader is unsafe. Please read https://msg.pyyaml.org/load for full details.\n",
      "  data = yaml.load(f.read()) or {}\n",
      "C:\\Users\\Alekhya\\Anaconda3\\lib\\site-packages\\distributed\\config.py:20: YAMLLoadWarning: calling yaml.load() without Loader=... is deprecated, as the default Loader is unsafe. Please read https://msg.pyyaml.org/load for full details.\n",
      "  defaults = yaml.load(f)\n",
      "C:\\Users\\Alekhya\\Anaconda3\\lib\\site-packages\\nltk\\twitter\\__init__.py:22: UserWarning: The twython library has not been installed. Some functionality from the twitter package will not be available.\n",
      "  \"The twython library has not been installed. \"\n",
      "C:\\Users\\Alekhya\\Anaconda3\\lib\\site-packages\\skimage\\novice\\__init__.py:103: UserWarning: The `skimage.novice` module was deprecated in version 0.14. It will be removed in 0.16.\n",
      "  warnings.warn(\"The `skimage.novice` module was deprecated in version 0.14. \"\n",
      "C:\\Users\\Alekhya\\Anaconda3\\lib\\site-packages\\skimage\\viewer\\utils\\core.py:10: UserWarning: Recommended matplotlib backend is `Agg` for full skimage.viewer functionality.\n",
      "  warn(\"Recommended matplotlib backend is `Agg` for full \"\n",
      "C:\\Users\\Alekhya\\Anaconda3\\lib\\site-packages\\sphinx\\websupport\\__init__.py:25: RemovedInSphinx20Warning: sphinx.websupport module is now provided as sphinxcontrib-websupport. sphinx.websupport will be removed at Sphinx-2.0. Please use the package instead.\n",
      "  RemovedInSphinx20Warning)\n",
      "C:\\Users\\Alekhya\\Anaconda3\\lib\\site-packages\\qtawesome\\iconic_font.py:276: UserWarning: You need to have a running QApplication to use QtAwesome!\n",
      "  warnings.warn(\"You need to have a running \"\n",
      "C:\\Users\\Alekhya\\Anaconda3\\lib\\pkgutil.py:107: VisibleDeprecationWarning: zmq.eventloop.minitornado is deprecated in pyzmq 14.0 and will be removed.\n",
      "    Install tornado itself to use zmq with the tornado IOLoop.\n",
      "    \n",
      "  yield from walk_packages(path, info.name+'.', onerror)\n"
     ]
    },
    {
     "name": "stdout",
     "output_type": "stream",
     "text": [
      "Crypto              builtins            mkl                 sphinx\n",
      "Cython              bz2                 mkl_fft             sphinxcontrib\n",
      "IPython             cProfile            mkl_random          spyder\n",
      "OpenSSL             calendar            mmap                spyder_breakpoints\n",
      "PIL                 certifi             mmapfile            spyder_io_dcm\n",
      "PyQt5               cffi                mmsystem            spyder_io_hdf5\n",
      "__future__          cgi                 modulefinder        spyder_kernels\n",
      "_abc                cgitb               more_itertools      spyder_profiler\n",
      "_ast                chardet             mpmath              spyder_pylint\n",
      "_asyncio            chunk               msgpack             sqlalchemy\n",
      "_bisect             click               msilib              sqlite3\n",
      "_blake2             cloudpickle         msvcrt              sre_compile\n",
      "_bootlocale         clyent              multipledispatch    sre_constants\n",
      "_bz2                cmath               multiprocessing     sre_parse\n",
      "_cffi_backend       cmd                 navigator_updater   ssl\n",
      "_codecs             code                nbconvert           sspi\n",
      "_codecs_cn          codecs              nbformat            sspicon\n",
      "_codecs_hk          codeop              netbios             stat\n",
      "_codecs_iso2022     collections         netrc               statistics\n",
      "_codecs_jp          colorama            networkx            statsmodels\n",
      "_codecs_kr          colorsys            nltk                storemagic\n",
      "_codecs_tw          commctrl            nntplib             string\n",
      "_collections        compileall          nose                stringprep\n",
      "_collections_abc    comtypes            notebook            struct\n",
      "_compat_pickle      concurrent          nt                  subprocess\n",
      "_compression        conda               ntpath              sunau\n",
      "_contextvars        conda_build         ntsecuritycon       symbol\n",
      "_csv                conda_env           nturl2path          sympy\n",
      "_ctypes             conda_verify        numba               sympyprinting\n",
      "_ctypes_test        configparser        numbers             symtable\n",
      "_datetime           contextlib          numexpr             sys\n",
      "_decimal            contextlib2         numpy               sysconfig\n",
      "_dummy_thread       contextvars         numpydoc            tables\n",
      "_elementtree        copy                odbc                tabnanny\n",
      "_functools          copyreg             olefile             tarfile\n",
      "_hashlib            crypt               opcode              tblib\n",
      "_heapq              cryptography        openpyxl            telnetlib\n",
      "_imp                csv                 operator            tempfile\n",
      "_io                 ctypes              optparse            terminado\n",
      "_json               curl                os                  test\n",
      "_locale             curses              packaging           test_data\n",
      "_lsprof             cwp                 pandas              test_path\n",
      "_lzma               cycler              pandocfilters       test_pycosat\n",
      "_markupbase         cython              parser              testpath\n",
      "_md5                cythonmagic         parso               tests\n",
      "_msi                cytoolz             partd               textwrap\n",
      "_multibytecodec     dask                past                this\n",
      "_multiprocessing    dataclasses         path                threading\n",
      "_nsis               datetime            pathlib             time\n",
      "_opcode             dateutil            pathlib2            timeit\n",
      "_operator           dbi                 patsy               timer\n",
      "_osx_support        dbm                 pdb                 tkinter\n",
      "_overlapped         dde                 pep8                tlz\n",
      "_pickle             decimal             perfmon             token\n",
      "_py_abc             decorator           pickle              tokenize\n",
      "_pydecimal          defusedxml          pickleshare         toolz\n",
      "_pyio               difflib             pickletools         tornado\n",
      "_pylief             dis                 pip                 tqdm\n",
      "_pyrsistent_version distributed         pipes               trace\n",
      "_pytest             distutils           pkg_resources       traceback\n",
      "_queue              doctest             pkginfo             tracemalloc\n",
      "_random             docutils            pkgutil             traitlets\n",
      "_sha1               dummy_threading     platform            tty\n",
      "_sha256             easy_install        plistlib            turtle\n",
      "_sha3               email               pluggy              turtledemo\n",
      "_sha512             encodings           ply                 types\n",
      "_signal             ensurepip           poplib              typing\n",
      "_sitebuiltins       entrypoints         posixpath           unicodecsv\n",
      "_socket             enum                pprint              unicodedata\n",
      "_sqlite3            errno               profile             unittest\n",
      "_sre                et_xmlfile          prometheus_client   urllib\n",
      "_ssl                fastcache           prompt_toolkit      urllib3\n",
      "_stat               faulthandler        pstats              uu\n",
      "_string             filecmp             psutil              uuid\n",
      "_strptime           fileinput           pty                 venv\n",
      "_struct             filelock            pvectorc            warnings\n",
      "_symtable           flask               py                  wave\n",
      "_system_path        fnmatch             py_compile          wcwidth\n",
      "_testbuffer         formatter           pyclbr              weakref\n",
      "_testcapi           fractions           pycodestyle         webbrowser\n",
      "_testconsole        ftplib              pycosat             webencodings\n",
      "_testimportmultiple functools           pycparser           werkzeug\n",
      "_testmultiphase     future              pycurl              wheel\n",
      "_thread             gc                  pydoc               widgetsnbextension\n",
      "_threading_local    genericpath         pydoc_data          win2kras\n",
      "_tkinter            getopt              pyexpat             win32api\n",
      "_tracemalloc        getpass             pyflakes            win32clipboard\n",
      "_warnings           gettext             pygments            win32com\n",
      "_weakref            gevent              pylab               win32con\n",
      "_weakrefset         glob                pylint              win32console\n",
      "_win32sysloader     glob2               pyodbc              win32cred\n",
      "_winapi             greenlet            pyparsing           win32crypt\n",
      "_winxptheme         gzip                pyreadline          win32cryptcon\n",
      "_yaml               h5py                pyrsistent          win32event\n",
      "abc                 hashlib             pytest              win32evtlog\n",
      "adodbapi            heapdict            pytest_arraydiff    win32evtlogutil\n",
      "afxres              heapq               pytest_doctestplus  win32file\n",
      "aifc                hmac                pytest_openfiles    win32gui\n",
      "alabaster           html                pytest_remotedata   win32gui_struct\n",
      "anaconda_navigator  html5lib            pythoncom           win32help\n",
      "anaconda_project    http                pytz                win32inet\n",
      "antigravity         idlelib             pywin               win32inetcon\n",
      "argparse            idna                pywin32_testutil    win32job\n",
      "array               imageio             pywintypes          win32lz\n",
      "asn1crypto          imagesize           pywt                win32net\n",
      "ast                 imaplib             pyximport           win32netcon\n",
      "astroid             imghdr              qtawesome           win32pdh\n",
      "astropy             imp                 qtconsole           win32pdhquery\n",
      "asynchat            importlib           qtpy                win32pdhutil\n",
      "asyncio             importlib_metadata  queue               win32pipe\n",
      "asyncore            inspect             quopri              win32print\n",
      "atexit              io                  random              win32process\n",
      "atomicwrites        ipaddress           rasutil             win32profile\n",
      "attr                ipykernel           re                  win32ras\n",
      "audioop             ipykernel_launcher  readline            win32rcparser\n",
      "autoreload          ipython_genutils    regcheck            win32security\n",
      "babel               ipywidgets          regutil             win32service\n",
      "backcall            isapi               reprlib             win32serviceutil\n",
      "backports           isort               requests            win32timezone\n",
      "base64              isympy              rlcompleter         win32trace\n",
      "bdb                 itertools           rmagic              win32traceutil\n",
      "binascii            itsdangerous        rope                win32transaction\n",
      "binhex              jdcal               ruamel_yaml         win32ts\n",
      "binstar_client      jedi                run                 win32ui\n",
      "bisect              jinja2              runpy               win32uiole\n",
      "bitarray            json                sched               win32verstamp\n",
      "bkcharts            jsonschema          scipy               win32wnet\n",
      "bleach              jupyter             scripts             win_inet_pton\n",
      "bokeh               jupyter_client      seaborn             win_unicode_console\n",
      "boto                jupyter_console     secrets             wincertstore\n",
      "bottleneck          jupyter_core        select              winerror\n",
      "brain_argparse      jupyterlab          selectors           winioctlcon\n",
      "brain_attrs         jupyterlab_server   send2trash          winnt\n",
      "brain_builtin_inference keyring             servicemanager      winperf\n",
      "brain_collections   keyword             setuptools          winpty\n",
      "brain_curses        kiwisolver          shelve              winreg\n",
      "brain_dateutil      lazy_object_proxy   shlex               winsound\n",
      "brain_fstrings      lib2to3             shutil              winxpgui\n",
      "brain_functools     libarchive          signal              winxptheme\n",
      "brain_gi            libfuturize         simplegeneric       wrapt\n",
      "brain_hashlib       libpasteurize       singledispatch      wsgiref\n",
      "brain_http          lief                singledispatch_helpers xdrlib\n",
      "brain_io            linecache           sip                 xlrd\n",
      "brain_mechanize     llvmlite            sipconfig           xlsxwriter\n",
      "brain_multiprocessing locale              sipdistutils        xlwings\n",
      "brain_namedtuple_enum locket              site                xlwt\n",
      "brain_nose          logging             six                 xml\n",
      "brain_numpy         lxml                skimage             xmlrpc\n",
      "brain_pkg_resources lzma                sklearn             xxsubtype\n",
      "brain_pytest        macpath             smtpd               yaml\n",
      "brain_qt            mailbox             smtplib             zict\n",
      "brain_random        mailcap             sndhdr              zipapp\n",
      "brain_re            markupsafe          snowballstemmer     zipfile\n",
      "brain_six           marshal             socket              zipimport\n",
      "brain_ssl           math                socketserver        zipp\n",
      "brain_subprocess    matplotlib          socks               zlib\n",
      "brain_threading     mccabe              sockshandler        zmq\n",
      "brain_typing        menuinst            sortedcollections   \n",
      "brain_uuid          mimetypes           sortedcontainers    \n",
      "bs4                 mistune             soupsieve           \n",
      "\n",
      "Enter any module name to get more help.  Or, type \"modules spam\" to search\n",
      "for modules whose name or summary contain the string \"spam\".\n",
      "\n",
      "DEBUG:matplotlib.pyplot:Loaded backend module://ipykernel.pylab.backend_inline version unknown.\n"
     ]
    }
   ],
   "source": [
    "help(\"modules\")"
   ]
  },
  {
   "cell_type": "code",
   "execution_count": 3,
   "metadata": {},
   "outputs": [
    {
     "name": "stdout",
     "output_type": "stream",
     "text": [
      "Help on built-in module math:\n",
      "\n",
      "NAME\n",
      "    math\n",
      "\n",
      "DESCRIPTION\n",
      "    This module is always available.  It provides access to the\n",
      "    mathematical functions defined by the C standard.\n",
      "\n",
      "FUNCTIONS\n",
      "    acos(x, /)\n",
      "        Return the arc cosine (measured in radians) of x.\n",
      "    \n",
      "    acosh(x, /)\n",
      "        Return the inverse hyperbolic cosine of x.\n",
      "    \n",
      "    asin(x, /)\n",
      "        Return the arc sine (measured in radians) of x.\n",
      "    \n",
      "    asinh(x, /)\n",
      "        Return the inverse hyperbolic sine of x.\n",
      "    \n",
      "    atan(x, /)\n",
      "        Return the arc tangent (measured in radians) of x.\n",
      "    \n",
      "    atan2(y, x, /)\n",
      "        Return the arc tangent (measured in radians) of y/x.\n",
      "        \n",
      "        Unlike atan(y/x), the signs of both x and y are considered.\n",
      "    \n",
      "    atanh(x, /)\n",
      "        Return the inverse hyperbolic tangent of x.\n",
      "    \n",
      "    ceil(x, /)\n",
      "        Return the ceiling of x as an Integral.\n",
      "        \n",
      "        This is the smallest integer >= x.\n",
      "    \n",
      "    copysign(x, y, /)\n",
      "        Return a float with the magnitude (absolute value) of x but the sign of y.\n",
      "        \n",
      "        On platforms that support signed zeros, copysign(1.0, -0.0)\n",
      "        returns -1.0.\n",
      "    \n",
      "    cos(x, /)\n",
      "        Return the cosine of x (measured in radians).\n",
      "    \n",
      "    cosh(x, /)\n",
      "        Return the hyperbolic cosine of x.\n",
      "    \n",
      "    degrees(x, /)\n",
      "        Convert angle x from radians to degrees.\n",
      "    \n",
      "    erf(x, /)\n",
      "        Error function at x.\n",
      "    \n",
      "    erfc(x, /)\n",
      "        Complementary error function at x.\n",
      "    \n",
      "    exp(x, /)\n",
      "        Return e raised to the power of x.\n",
      "    \n",
      "    expm1(x, /)\n",
      "        Return exp(x)-1.\n",
      "        \n",
      "        This function avoids the loss of precision involved in the direct evaluation of exp(x)-1 for small x.\n",
      "    \n",
      "    fabs(x, /)\n",
      "        Return the absolute value of the float x.\n",
      "    \n",
      "    factorial(x, /)\n",
      "        Find x!.\n",
      "        \n",
      "        Raise a ValueError if x is negative or non-integral.\n",
      "    \n",
      "    floor(x, /)\n",
      "        Return the floor of x as an Integral.\n",
      "        \n",
      "        This is the largest integer <= x.\n",
      "    \n",
      "    fmod(x, y, /)\n",
      "        Return fmod(x, y), according to platform C.\n",
      "        \n",
      "        x % y may differ.\n",
      "    \n",
      "    frexp(x, /)\n",
      "        Return the mantissa and exponent of x, as pair (m, e).\n",
      "        \n",
      "        m is a float and e is an int, such that x = m * 2.**e.\n",
      "        If x is 0, m and e are both 0.  Else 0.5 <= abs(m) < 1.0.\n",
      "    \n",
      "    fsum(seq, /)\n",
      "        Return an accurate floating point sum of values in the iterable seq.\n",
      "        \n",
      "        Assumes IEEE-754 floating point arithmetic.\n",
      "    \n",
      "    gamma(x, /)\n",
      "        Gamma function at x.\n",
      "    \n",
      "    gcd(x, y, /)\n",
      "        greatest common divisor of x and y\n",
      "    \n",
      "    hypot(x, y, /)\n",
      "        Return the Euclidean distance, sqrt(x*x + y*y).\n",
      "    \n",
      "    isclose(a, b, *, rel_tol=1e-09, abs_tol=0.0)\n",
      "        Determine whether two floating point numbers are close in value.\n",
      "        \n",
      "          rel_tol\n",
      "            maximum difference for being considered \"close\", relative to the\n",
      "            magnitude of the input values\n",
      "          abs_tol\n",
      "            maximum difference for being considered \"close\", regardless of the\n",
      "            magnitude of the input values\n",
      "        \n",
      "        Return True if a is close in value to b, and False otherwise.\n",
      "        \n",
      "        For the values to be considered close, the difference between them\n",
      "        must be smaller than at least one of the tolerances.\n",
      "        \n",
      "        -inf, inf and NaN behave similarly to the IEEE 754 Standard.  That\n",
      "        is, NaN is not close to anything, even itself.  inf and -inf are\n",
      "        only close to themselves.\n",
      "    \n",
      "    isfinite(x, /)\n",
      "        Return True if x is neither an infinity nor a NaN, and False otherwise.\n",
      "    \n",
      "    isinf(x, /)\n",
      "        Return True if x is a positive or negative infinity, and False otherwise.\n",
      "    \n",
      "    isnan(x, /)\n",
      "        Return True if x is a NaN (not a number), and False otherwise.\n",
      "    \n",
      "    ldexp(x, i, /)\n",
      "        Return x * (2**i).\n",
      "        \n",
      "        This is essentially the inverse of frexp().\n",
      "    \n",
      "    lgamma(x, /)\n",
      "        Natural logarithm of absolute value of Gamma function at x.\n",
      "    \n",
      "    log(...)\n",
      "        log(x, [base=math.e])\n",
      "        Return the logarithm of x to the given base.\n",
      "        \n",
      "        If the base not specified, returns the natural logarithm (base e) of x.\n",
      "    \n",
      "    log10(x, /)\n",
      "        Return the base 10 logarithm of x.\n",
      "    \n",
      "    log1p(x, /)\n",
      "        Return the natural logarithm of 1+x (base e).\n",
      "        \n",
      "        The result is computed in a way which is accurate for x near zero.\n",
      "    \n",
      "    log2(x, /)\n",
      "        Return the base 2 logarithm of x.\n",
      "    \n",
      "    modf(x, /)\n",
      "        Return the fractional and integer parts of x.\n",
      "        \n",
      "        Both results carry the sign of x and are floats.\n",
      "    \n",
      "    pow(x, y, /)\n",
      "        Return x**y (x to the power of y).\n",
      "    \n",
      "    radians(x, /)\n",
      "        Convert angle x from degrees to radians.\n",
      "    \n",
      "    remainder(x, y, /)\n",
      "        Difference between x and the closest integer multiple of y.\n",
      "        \n",
      "        Return x - n*y where n*y is the closest integer multiple of y.\n",
      "        In the case where x is exactly halfway between two multiples of\n",
      "        y, the nearest even value of n is used. The result is always exact.\n",
      "    \n",
      "    sin(x, /)\n",
      "        Return the sine of x (measured in radians).\n",
      "    \n",
      "    sinh(x, /)\n",
      "        Return the hyperbolic sine of x.\n",
      "    \n",
      "    sqrt(x, /)\n",
      "        Return the square root of x.\n",
      "    \n",
      "    tan(x, /)\n",
      "        Return the tangent of x (measured in radians).\n",
      "    \n",
      "    tanh(x, /)\n",
      "        Return the hyperbolic tangent of x.\n",
      "    \n",
      "    trunc(x, /)\n",
      "        Truncates the Real x to the nearest Integral toward 0.\n",
      "        \n",
      "        Uses the __trunc__ magic method.\n",
      "\n",
      "DATA\n",
      "    e = 2.718281828459045\n",
      "    inf = inf\n",
      "    nan = nan\n",
      "    pi = 3.141592653589793\n",
      "    tau = 6.283185307179586\n",
      "\n",
      "FILE\n",
      "    (built-in)\n",
      "\n",
      "\n"
     ]
    }
   ],
   "source": [
    "help('math')"
   ]
  },
  {
   "cell_type": "code",
   "execution_count": 4,
   "metadata": {},
   "outputs": [
    {
     "name": "stdout",
     "output_type": "stream",
     "text": [
      "Help on built-in module math:\n",
      "\n",
      "NAME\n",
      "    math\n",
      "\n",
      "DESCRIPTION\n",
      "    This module is always available.  It provides access to the\n",
      "    mathematical functions defined by the C standard.\n",
      "\n",
      "FUNCTIONS\n",
      "    acos(x, /)\n",
      "        Return the arc cosine (measured in radians) of x.\n",
      "    \n",
      "    acosh(x, /)\n",
      "        Return the inverse hyperbolic cosine of x.\n",
      "    \n",
      "    asin(x, /)\n",
      "        Return the arc sine (measured in radians) of x.\n",
      "    \n",
      "    asinh(x, /)\n",
      "        Return the inverse hyperbolic sine of x.\n",
      "    \n",
      "    atan(x, /)\n",
      "        Return the arc tangent (measured in radians) of x.\n",
      "    \n",
      "    atan2(y, x, /)\n",
      "        Return the arc tangent (measured in radians) of y/x.\n",
      "        \n",
      "        Unlike atan(y/x), the signs of both x and y are considered.\n",
      "    \n",
      "    atanh(x, /)\n",
      "        Return the inverse hyperbolic tangent of x.\n",
      "    \n",
      "    ceil(x, /)\n",
      "        Return the ceiling of x as an Integral.\n",
      "        \n",
      "        This is the smallest integer >= x.\n",
      "    \n",
      "    copysign(x, y, /)\n",
      "        Return a float with the magnitude (absolute value) of x but the sign of y.\n",
      "        \n",
      "        On platforms that support signed zeros, copysign(1.0, -0.0)\n",
      "        returns -1.0.\n",
      "    \n",
      "    cos(x, /)\n",
      "        Return the cosine of x (measured in radians).\n",
      "    \n",
      "    cosh(x, /)\n",
      "        Return the hyperbolic cosine of x.\n",
      "    \n",
      "    degrees(x, /)\n",
      "        Convert angle x from radians to degrees.\n",
      "    \n",
      "    erf(x, /)\n",
      "        Error function at x.\n",
      "    \n",
      "    erfc(x, /)\n",
      "        Complementary error function at x.\n",
      "    \n",
      "    exp(x, /)\n",
      "        Return e raised to the power of x.\n",
      "    \n",
      "    expm1(x, /)\n",
      "        Return exp(x)-1.\n",
      "        \n",
      "        This function avoids the loss of precision involved in the direct evaluation of exp(x)-1 for small x.\n",
      "    \n",
      "    fabs(x, /)\n",
      "        Return the absolute value of the float x.\n",
      "    \n",
      "    factorial(x, /)\n",
      "        Find x!.\n",
      "        \n",
      "        Raise a ValueError if x is negative or non-integral.\n",
      "    \n",
      "    floor(x, /)\n",
      "        Return the floor of x as an Integral.\n",
      "        \n",
      "        This is the largest integer <= x.\n",
      "    \n",
      "    fmod(x, y, /)\n",
      "        Return fmod(x, y), according to platform C.\n",
      "        \n",
      "        x % y may differ.\n",
      "    \n",
      "    frexp(x, /)\n",
      "        Return the mantissa and exponent of x, as pair (m, e).\n",
      "        \n",
      "        m is a float and e is an int, such that x = m * 2.**e.\n",
      "        If x is 0, m and e are both 0.  Else 0.5 <= abs(m) < 1.0.\n",
      "    \n",
      "    fsum(seq, /)\n",
      "        Return an accurate floating point sum of values in the iterable seq.\n",
      "        \n",
      "        Assumes IEEE-754 floating point arithmetic.\n",
      "    \n",
      "    gamma(x, /)\n",
      "        Gamma function at x.\n",
      "    \n",
      "    gcd(x, y, /)\n",
      "        greatest common divisor of x and y\n",
      "    \n",
      "    hypot(x, y, /)\n",
      "        Return the Euclidean distance, sqrt(x*x + y*y).\n",
      "    \n",
      "    isclose(a, b, *, rel_tol=1e-09, abs_tol=0.0)\n",
      "        Determine whether two floating point numbers are close in value.\n",
      "        \n",
      "          rel_tol\n",
      "            maximum difference for being considered \"close\", relative to the\n",
      "            magnitude of the input values\n",
      "          abs_tol\n",
      "            maximum difference for being considered \"close\", regardless of the\n",
      "            magnitude of the input values\n",
      "        \n",
      "        Return True if a is close in value to b, and False otherwise.\n",
      "        \n",
      "        For the values to be considered close, the difference between them\n",
      "        must be smaller than at least one of the tolerances.\n",
      "        \n",
      "        -inf, inf and NaN behave similarly to the IEEE 754 Standard.  That\n",
      "        is, NaN is not close to anything, even itself.  inf and -inf are\n",
      "        only close to themselves.\n",
      "    \n",
      "    isfinite(x, /)\n",
      "        Return True if x is neither an infinity nor a NaN, and False otherwise.\n",
      "    \n",
      "    isinf(x, /)\n",
      "        Return True if x is a positive or negative infinity, and False otherwise.\n",
      "    \n",
      "    isnan(x, /)\n",
      "        Return True if x is a NaN (not a number), and False otherwise.\n",
      "    \n",
      "    ldexp(x, i, /)\n",
      "        Return x * (2**i).\n",
      "        \n",
      "        This is essentially the inverse of frexp().\n",
      "    \n",
      "    lgamma(x, /)\n",
      "        Natural logarithm of absolute value of Gamma function at x.\n",
      "    \n",
      "    log(...)\n",
      "        log(x, [base=math.e])\n",
      "        Return the logarithm of x to the given base.\n",
      "        \n",
      "        If the base not specified, returns the natural logarithm (base e) of x.\n",
      "    \n",
      "    log10(x, /)\n",
      "        Return the base 10 logarithm of x.\n",
      "    \n",
      "    log1p(x, /)\n",
      "        Return the natural logarithm of 1+x (base e).\n",
      "        \n",
      "        The result is computed in a way which is accurate for x near zero.\n",
      "    \n",
      "    log2(x, /)\n",
      "        Return the base 2 logarithm of x.\n",
      "    \n",
      "    modf(x, /)\n",
      "        Return the fractional and integer parts of x.\n",
      "        \n",
      "        Both results carry the sign of x and are floats.\n",
      "    \n",
      "    pow(x, y, /)\n",
      "        Return x**y (x to the power of y).\n",
      "    \n",
      "    radians(x, /)\n",
      "        Convert angle x from degrees to radians.\n",
      "    \n",
      "    remainder(x, y, /)\n",
      "        Difference between x and the closest integer multiple of y.\n",
      "        \n",
      "        Return x - n*y where n*y is the closest integer multiple of y.\n",
      "        In the case where x is exactly halfway between two multiples of\n",
      "        y, the nearest even value of n is used. The result is always exact.\n",
      "    \n",
      "    sin(x, /)\n",
      "        Return the sine of x (measured in radians).\n",
      "    \n",
      "    sinh(x, /)\n",
      "        Return the hyperbolic sine of x.\n",
      "    \n",
      "    sqrt(x, /)\n",
      "        Return the square root of x.\n",
      "    \n",
      "    tan(x, /)\n",
      "        Return the tangent of x (measured in radians).\n",
      "    \n",
      "    tanh(x, /)\n",
      "        Return the hyperbolic tangent of x.\n",
      "    \n",
      "    trunc(x, /)\n",
      "        Truncates the Real x to the nearest Integral toward 0.\n",
      "        \n",
      "        Uses the __trunc__ magic method.\n",
      "\n",
      "DATA\n",
      "    e = 2.718281828459045\n",
      "    inf = inf\n",
      "    nan = nan\n",
      "    pi = 3.141592653589793\n",
      "    tau = 6.283185307179586\n",
      "\n",
      "FILE\n",
      "    (built-in)\n",
      "\n",
      "\n"
     ]
    }
   ],
   "source": [
    "import math\n",
    "help(math)"
   ]
  },
  {
   "cell_type": "code",
   "execution_count": 6,
   "metadata": {},
   "outputs": [
    {
     "name": "stdout",
     "output_type": "stream",
     "text": [
      "['__doc__', '__loader__', '__name__', '__package__', '__spec__', 'acos', 'acosh', 'asin', 'asinh', 'atan', 'atan2', 'atanh', 'ceil', 'copysign', 'cos', 'cosh', 'degrees', 'e', 'erf', 'erfc', 'exp', 'expm1', 'fabs', 'factorial', 'floor', 'fmod', 'frexp', 'fsum', 'gamma', 'gcd', 'hypot', 'inf', 'isclose', 'isfinite', 'isinf', 'isnan', 'ldexp', 'lgamma', 'log', 'log10', 'log1p', 'log2', 'modf', 'nan', 'pi', 'pow', 'radians', 'remainder', 'sin', 'sinh', 'sqrt', 'tan', 'tanh', 'tau', 'trunc']\n"
     ]
    }
   ],
   "source": [
    "print(dir(math))"
   ]
  },
  {
   "cell_type": "code",
   "execution_count": 8,
   "metadata": {},
   "outputs": [
    {
     "data": {
      "text/plain": [
       "2.0"
      ]
     },
     "execution_count": 8,
     "metadata": {},
     "output_type": "execute_result"
    }
   ],
   "source": [
    "math.sqrt(4)"
   ]
  },
  {
   "cell_type": "code",
   "execution_count": 15,
   "metadata": {},
   "outputs": [],
   "source": [
    "import webbrowser as wb\n",
    "import time"
   ]
  },
  {
   "cell_type": "code",
   "execution_count": 11,
   "metadata": {},
   "outputs": [
    {
     "name": "stdout",
     "output_type": "stream",
     "text": [
      "['BackgroundBrowser', 'BaseBrowser', 'Chrome', 'Chromium', 'Elinks', 'Error', 'Galeon', 'GenericBrowser', 'Grail', 'Konqueror', 'Mozilla', 'Netscape', 'Opera', 'UnixBrowser', 'WindowsDefault', '__all__', '__builtins__', '__cached__', '__doc__', '__file__', '__loader__', '__name__', '__package__', '__spec__', '_browsers', '_lock', '_os_preferred_browser', '_synthesize', '_tryorder', 'get', 'main', 'open', 'open_new', 'open_new_tab', 'os', 'register', 'register_X_browsers', 'register_standard_browsers', 'shlex', 'shutil', 'subprocess', 'sys', 'threading']\n"
     ]
    }
   ],
   "source": [
    "print(dir(wb))"
   ]
  },
  {
   "cell_type": "code",
   "execution_count": 16,
   "metadata": {},
   "outputs": [
    {
     "name": "stdout",
     "output_type": "stream",
     "text": [
      "['_STRUCT_TM_ITEMS', '__doc__', '__loader__', '__name__', '__package__', '__spec__', 'altzone', 'asctime', 'clock', 'ctime', 'daylight', 'get_clock_info', 'gmtime', 'localtime', 'mktime', 'monotonic', 'monotonic_ns', 'perf_counter', 'perf_counter_ns', 'process_time', 'process_time_ns', 'sleep', 'strftime', 'strptime', 'struct_time', 'thread_time', 'thread_time_ns', 'time', 'time_ns', 'timezone', 'tzname']\n"
     ]
    }
   ],
   "source": [
    "print(dir(time))"
   ]
  },
  {
   "cell_type": "code",
   "execution_count": 22,
   "metadata": {},
   "outputs": [],
   "source": [
    "web = [\"www.gmail.com\",\"www.youtube.com\",\"www.amazon.in\"]\n",
    "for url in web:\n",
    "    wb.open(url)\n",
    "    time.sleep(15)\n",
    "    \n",
    "    \n",
    "    \n",
    "    "
   ]
  },
  {
   "cell_type": "code",
   "execution_count": 21,
   "metadata": {},
   "outputs": [
    {
     "name": "stdout",
     "output_type": "stream",
     "text": [
      "Help on built-in function sleep in module time:\n",
      "\n",
      "sleep(...)\n",
      "    sleep(seconds)\n",
      "    \n",
      "    Delay execution for a given number of seconds.  The argument may be\n",
      "    a floating point number for subsecond precision.\n",
      "\n"
     ]
    }
   ],
   "source": [
    "help(time.sleep)"
   ]
  },
  {
   "cell_type": "code",
   "execution_count": 18,
   "metadata": {},
   "outputs": [
    {
     "name": "stdout",
     "output_type": "stream",
     "text": [
      "Help on function open in module webbrowser:\n",
      "\n",
      "open(url, new=0, autoraise=True)\n",
      "\n"
     ]
    }
   ],
   "source": [
    "help(wb.open)"
   ]
  },
  {
   "cell_type": "code",
   "execution_count": 19,
   "metadata": {
    "scrolled": true
   },
   "outputs": [
    {
     "name": "stdout",
     "output_type": "stream",
     "text": [
      "Help on module webbrowser:\n",
      "\n",
      "NAME\n",
      "    webbrowser - Interfaces for launching and remotely controlling Web browsers.\n",
      "\n",
      "CLASSES\n",
      "    builtins.Exception(builtins.BaseException)\n",
      "        Error\n",
      "    \n",
      "    class Error(builtins.Exception)\n",
      "     |  Common base class for all non-exit exceptions.\n",
      "     |  \n",
      "     |  Method resolution order:\n",
      "     |      Error\n",
      "     |      builtins.Exception\n",
      "     |      builtins.BaseException\n",
      "     |      builtins.object\n",
      "     |  \n",
      "     |  Data descriptors defined here:\n",
      "     |  \n",
      "     |  __weakref__\n",
      "     |      list of weak references to the object (if defined)\n",
      "     |  \n",
      "     |  ----------------------------------------------------------------------\n",
      "     |  Methods inherited from builtins.Exception:\n",
      "     |  \n",
      "     |  __init__(self, /, *args, **kwargs)\n",
      "     |      Initialize self.  See help(type(self)) for accurate signature.\n",
      "     |  \n",
      "     |  ----------------------------------------------------------------------\n",
      "     |  Static methods inherited from builtins.Exception:\n",
      "     |  \n",
      "     |  __new__(*args, **kwargs) from builtins.type\n",
      "     |      Create and return a new object.  See help(type) for accurate signature.\n",
      "     |  \n",
      "     |  ----------------------------------------------------------------------\n",
      "     |  Methods inherited from builtins.BaseException:\n",
      "     |  \n",
      "     |  __delattr__(self, name, /)\n",
      "     |      Implement delattr(self, name).\n",
      "     |  \n",
      "     |  __getattribute__(self, name, /)\n",
      "     |      Return getattr(self, name).\n",
      "     |  \n",
      "     |  __reduce__(...)\n",
      "     |      Helper for pickle.\n",
      "     |  \n",
      "     |  __repr__(self, /)\n",
      "     |      Return repr(self).\n",
      "     |  \n",
      "     |  __setattr__(self, name, value, /)\n",
      "     |      Implement setattr(self, name, value).\n",
      "     |  \n",
      "     |  __setstate__(...)\n",
      "     |  \n",
      "     |  __str__(self, /)\n",
      "     |      Return str(self).\n",
      "     |  \n",
      "     |  with_traceback(...)\n",
      "     |      Exception.with_traceback(tb) --\n",
      "     |      set self.__traceback__ to tb and return self.\n",
      "     |  \n",
      "     |  ----------------------------------------------------------------------\n",
      "     |  Data descriptors inherited from builtins.BaseException:\n",
      "     |  \n",
      "     |  __cause__\n",
      "     |      exception cause\n",
      "     |  \n",
      "     |  __context__\n",
      "     |      exception context\n",
      "     |  \n",
      "     |  __dict__\n",
      "     |  \n",
      "     |  __suppress_context__\n",
      "     |  \n",
      "     |  __traceback__\n",
      "     |  \n",
      "     |  args\n",
      "\n",
      "FUNCTIONS\n",
      "    get(using=None)\n",
      "        Return a browser launcher instance appropriate for the environment.\n",
      "    \n",
      "    open(url, new=0, autoraise=True)\n",
      "    \n",
      "    open_new(url)\n",
      "    \n",
      "    open_new_tab(url)\n",
      "    \n",
      "    register(name, klass, instance=None, *, preferred=False)\n",
      "        Register a browser connector.\n",
      "\n",
      "DATA\n",
      "    __all__ = ['Error', 'open', 'open_new', 'open_new_tab', 'get', 'regist...\n",
      "\n",
      "FILE\n",
      "    c:\\users\\alekhya\\anaconda3\\lib\\webbrowser.py\n",
      "\n",
      "\n"
     ]
    }
   ],
   "source": [
    "help(wb)"
   ]
  },
  {
   "cell_type": "markdown",
   "metadata": {},
   "source": [
    "#### creating own module"
   ]
  },
  {
   "cell_type": "code",
   "execution_count": 1,
   "metadata": {},
   "outputs": [],
   "source": [
    "import mymodule"
   ]
  },
  {
   "cell_type": "code",
   "execution_count": 2,
   "metadata": {},
   "outputs": [
    {
     "name": "stdout",
     "output_type": "stream",
     "text": [
      "even number\n"
     ]
    }
   ],
   "source": [
    "mymodule.checking(4)"
   ]
  },
  {
   "cell_type": "code",
   "execution_count": 3,
   "metadata": {},
   "outputs": [
    {
     "name": "stdout",
     "output_type": "stream",
     "text": [
      "odd number\n"
     ]
    }
   ],
   "source": [
    "mymodule.checking(9)"
   ]
  },
  {
   "cell_type": "code",
   "execution_count": 4,
   "metadata": {},
   "outputs": [
    {
     "name": "stdout",
     "output_type": "stream",
     "text": [
      "Help on function checking in module mymodule:\n",
      "\n",
      "checking(n)\n",
      "\n"
     ]
    }
   ],
   "source": [
    "help(mymodule.checking)"
   ]
  },
  {
   "cell_type": "code",
   "execution_count": 5,
   "metadata": {},
   "outputs": [
    {
     "name": "stdout",
     "output_type": "stream",
     "text": [
      "Hello alekhya\n"
     ]
    }
   ],
   "source": [
    "mymodule.hello(\"alekhya\")"
   ]
  },
  {
   "cell_type": "code",
   "execution_count": 2,
   "metadata": {},
   "outputs": [
    {
     "name": "stdout",
     "output_type": "stream",
     "text": [
      "5\n"
     ]
    }
   ],
   "source": [
    "mymodule.add(2,3)"
   ]
  },
  {
   "cell_type": "markdown",
   "metadata": {},
   "source": [
    "### Packages"
   ]
  },
  {
   "cell_type": "code",
   "execution_count": 3,
   "metadata": {},
   "outputs": [],
   "source": [
    "from matplotlib import pyplot"
   ]
  },
  {
   "cell_type": "code",
   "execution_count": 4,
   "metadata": {},
   "outputs": [
    {
     "name": "stdout",
     "output_type": "stream",
     "text": [
      "['Annotation', 'Arrow', 'Artist', 'AutoLocator', 'Axes', 'Button', 'Circle', 'Figure', 'FigureCanvasBase', 'FixedFormatter', 'FixedLocator', 'FormatStrFormatter', 'Formatter', 'FuncFormatter', 'GridSpec', 'IndexLocator', 'Line2D', 'LinearLocator', 'Locator', 'LogFormatter', 'LogFormatterExponent', 'LogFormatterMathtext', 'LogLocator', 'MaxNLocator', 'MultipleLocator', 'Normalize', 'NullFormatter', 'NullLocator', 'Number', 'PolarAxes', 'Polygon', 'Rectangle', 'ScalarFormatter', 'Slider', 'Subplot', 'SubplotTool', 'Text', 'TickHelper', 'Widget', '_INSTALL_FIG_OBSERVER', '_IP_REGISTERED', '__builtins__', '__cached__', '__doc__', '__file__', '__loader__', '__name__', '__package__', '__spec__', '_auto_draw_if_interactive', '_autogen_docstring', '_backend_mod', '_get_running_interactive_framework', '_interactive_bk', '_log', '_pylab_helpers', '_setp', '_setup_pyplot_info_docstrings', '_show', '_string_to_bool', 'acorr', 'angle_spectrum', 'annotate', 'arrow', 'autoscale', 'autumn', 'axes', 'axhline', 'axhspan', 'axis', 'axvline', 'axvspan', 'bar', 'barbs', 'barh', 'bone', 'box', 'boxplot', 'broken_barh', 'cla', 'clabel', 'clf', 'clim', 'close', 'cm', 'cohere', 'colorbar', 'colormaps', 'connect', 'contour', 'contourf', 'cool', 'copper', 'csd', 'cycler', 'dedent', 'delaxes', 'deprecated', 'disconnect', 'docstring', 'draw', 'draw_all', 'draw_if_interactive', 'errorbar', 'eventplot', 'figaspect', 'figimage', 'figlegend', 'fignum_exists', 'figtext', 'figure', 'fill', 'fill_between', 'fill_betweenx', 'findobj', 'flag', 'gca', 'gcf', 'gci', 'get', 'get_backend', 'get_cmap', 'get_current_fig_manager', 'get_figlabels', 'get_fignums', 'get_plot_commands', 'get_scale_docs', 'get_scale_names', 'getp', 'ginput', 'gray', 'grid', 'hexbin', 'hist', 'hist2d', 'hlines', 'hot', 'hsv', 'importlib', 'imread', 'imsave', 'imshow', 'inferno', 'inspect', 'install_repl_displayhook', 'interactive', 'ioff', 'ion', 'isinteractive', 'jet', 'legend', 'locator_params', 'logging', 'loglog', 'magma', 'magnitude_spectrum', 'margins', 'matplotlib', 'matshow', 'minorticks_off', 'minorticks_on', 'mlab', 'new_figure_manager', 'nipy_spectral', 'np', 'pause', 'pcolor', 'pcolormesh', 'phase_spectrum', 'pie', 'pink', 'plasma', 'plot', 'plot_date', 'plotfile', 'plotting', 'polar', 'prism', 'psd', 'pylab_setup', 'quiver', 'quiverkey', 'rc', 'rcParams', 'rcParamsDefault', 'rcParamsOrig', 'rc_context', 'rcdefaults', 'rcsetup', 're', 'register_cmap', 'rgrids', 'savefig', 'sca', 'scatter', 'sci', 'semilogx', 'semilogy', 'set_cmap', 'setp', 'show', 'silent_list', 'specgram', 'spring', 'spy', 'stackplot', 'stem', 'step', 'streamplot', 'style', 'subplot', 'subplot2grid', 'subplot_tool', 'subplots', 'subplots_adjust', 'summer', 'suptitle', 'switch_backend', 'sys', 'table', 'text', 'thetagrids', 'tick_params', 'ticklabel_format', 'tight_layout', 'time', 'title', 'tricontour', 'tricontourf', 'tripcolor', 'triplot', 'twinx', 'twiny', 'uninstall_repl_displayhook', 'violinplot', 'viridis', 'vlines', 'waitforbuttonpress', 'warn_deprecated', 'warnings', 'winter', 'xcorr', 'xkcd', 'xlabel', 'xlim', 'xscale', 'xticks', 'ylabel', 'ylim', 'yscale', 'yticks']\n"
     ]
    }
   ],
   "source": [
    "print(dir(pyplot))"
   ]
  },
  {
   "cell_type": "code",
   "execution_count": 7,
   "metadata": {},
   "outputs": [
    {
     "name": "stdout",
     "output_type": "stream",
     "text": [
      "No Python documentation found for 'packages'.\n",
      "Use help() to get the interactive help utility.\n",
      "Use help(str) for help on the str class.\n",
      "\n"
     ]
    }
   ],
   "source": [
    "help(\"packages\")"
   ]
  },
  {
   "cell_type": "code",
   "execution_count": 11,
   "metadata": {},
   "outputs": [
    {
     "name": "stdout",
     "output_type": "stream",
     "text": [
      "['alabaster==0.7.12', 'anaconda-client==1.7.2', 'anaconda-navigator==1.9.7', 'anaconda-project==0.8.2', 'asn1crypto==0.24.0', 'astroid==2.2.5', 'astropy==3.1.2', 'atomicwrites==1.3.0', 'attrs==19.1.0', 'babel==2.6.0', 'backcall==0.1.0', 'backports.os==0.1.1', 'backports.shutil-get-terminal-size==1.0.0', 'beautifulsoup4==4.7.1', 'bitarray==0.8.3', 'bkcharts==0.2', 'bleach==3.1.0', 'bokeh==1.0.4', 'boto==2.49.0', 'bottleneck==1.2.1', 'certifi==2019.3.9', 'cffi==1.12.2', 'chardet==3.0.4', 'click==7.0', 'cloudpickle==0.8.0', 'clyent==1.2.2', 'colorama==0.4.1', 'comtypes==1.1.7', 'conda-build==3.17.8', 'conda-verify==3.1.1', 'conda==4.6.11', 'contextlib2==0.5.5', 'cryptography==2.6.1', 'cycler==0.10.0', 'cython==0.29.6', 'cytoolz==0.9.0.1', 'dask==1.1.4', 'decorator==4.4.0', 'defusedxml==0.5.0', 'distributed==1.26.0', 'docutils==0.14', 'entrypoints==0.3', 'et-xmlfile==1.0.1', 'fastcache==1.0.2', 'filelock==3.0.10', 'flask==1.0.2', 'future==0.17.1', 'gevent==1.4.0', 'glob2==0.6', 'greenlet==0.4.15', 'h5py==2.9.0', 'heapdict==1.0.0', 'html5lib==1.0.1', 'idna==2.8', 'imageio==2.5.0', 'imagesize==1.1.0', 'importlib-metadata==0.0.0', 'ipykernel==5.1.0', 'ipython-genutils==0.2.0', 'ipython==7.4.0', 'ipywidgets==7.4.2', 'isort==4.3.16', 'itsdangerous==1.1.0', 'jdcal==1.4', 'jedi==0.13.3', 'jinja2==2.10', 'jsonschema==3.0.1', 'jupyter-client==5.2.4', 'jupyter-console==6.0.0', 'jupyter-core==4.4.0', 'jupyter==1.0.0', 'jupyterlab-server==0.2.0', 'jupyterlab==0.35.4', 'keyring==18.0.0', 'kiwisolver==1.0.1', 'lazy-object-proxy==1.3.1', 'libarchive-c==2.8', 'llvmlite==0.28.0', 'locket==0.2.0', 'lxml==4.3.2', 'markupsafe==1.1.1', 'matplotlib==3.0.3', 'mccabe==0.6.1', 'menuinst==1.4.16', 'mistune==0.8.4', 'mkl-fft==1.0.10', 'mkl-random==1.0.2', 'more-itertools==6.0.0', 'mpmath==1.1.0', 'msgpack==0.6.1', 'multipledispatch==0.6.0', 'navigator-updater==0.2.1', 'nbconvert==5.4.1', 'nbformat==4.4.0', 'networkx==2.2', 'nltk==3.4', 'nose==1.3.7', 'notebook==5.7.8', 'numba==0.43.1', 'numexpr==2.6.9', 'numpy==1.16.2', 'numpydoc==0.8.0', 'olefile==0.46', 'openpyxl==2.6.1', 'packaging==19.0', 'pandas==0.24.2', 'pandocfilters==1.4.2', 'parso==0.3.4', 'partd==0.3.10', 'path.py==11.5.0', 'pathlib2==2.3.3', 'patsy==0.5.1', 'pep8==1.7.1', 'pickleshare==0.7.5', 'pillow==5.4.1', 'pip==19.0.3', 'pkginfo==1.5.0.1', 'pluggy==0.9.0', 'ply==3.11', 'prometheus-client==0.6.0', 'prompt-toolkit==2.0.9', 'psutil==5.6.1', 'py==1.8.0', 'pycodestyle==2.5.0', 'pycosat==0.6.3', 'pycparser==2.19', 'pycrypto==2.6.1', 'pycurl==7.43.0.2', 'pyflakes==2.1.1', 'pygments==2.3.1', 'pylint==2.3.1', 'pyodbc==4.0.26', 'pyopenssl==19.0.0', 'pyparsing==2.3.1', 'pyreadline==2.1', 'pyrsistent==0.14.11', 'pysocks==1.6.8', 'pytest-arraydiff==0.3', 'pytest-astropy==0.5.0', 'pytest-doctestplus==0.3.0', 'pytest-openfiles==0.3.2', 'pytest-remotedata==0.3.1', 'pytest==4.3.1', 'python-dateutil==2.8.0', 'pytz==2018.9', 'pywavelets==1.0.2', 'pywin32==223', 'pywinpty==0.5.5', 'pyyaml==5.1', 'pyzmq==18.0.0', 'qtawesome==0.5.7', 'qtconsole==4.4.3', 'qtpy==1.7.0', 'requests==2.21.0', 'rope==0.12.0', 'ruamel-yaml==0.15.46', 'scikit-image==0.14.2', 'scikit-learn==0.20.3', 'scipy==1.2.1', 'seaborn==0.9.0', 'send2trash==1.5.0', 'setuptools==40.8.0', 'simplegeneric==0.8.1', 'singledispatch==3.4.0.3', 'six==1.12.0', 'snowballstemmer==1.2.1', 'sortedcollections==1.1.2', 'sortedcontainers==2.1.0', 'soupsieve==1.8', 'sphinx==1.8.5', 'sphinxcontrib-websupport==1.1.0', 'spyder-kernels==0.4.2', 'spyder==3.3.3', 'sqlalchemy==1.3.1', 'statsmodels==0.9.0', 'sympy==1.3', 'tables==3.5.1', 'tblib==1.3.2', 'terminado==0.8.1', 'testpath==0.4.2', 'toolz==0.9.0', 'tornado==6.0.2', 'tqdm==4.31.1', 'traitlets==4.3.2', 'unicodecsv==0.14.1', 'urllib3==1.24.1', 'wcwidth==0.1.7', 'webencodings==0.5.1', 'werkzeug==0.14.1', 'wheel==0.33.1', 'widgetsnbextension==3.4.2', 'win-inet-pton==1.1.0', 'win-unicode-console==0.5', 'wincertstore==0.2', 'wrapt==1.11.1', 'xlrd==1.2.0', 'xlsxwriter==1.1.5', 'xlwings==0.15.4', 'xlwt==1.3.0', 'zict==0.1.4', 'zipp==0.3.3']\n"
     ]
    }
   ],
   "source": [
    "import pip._internal.operations.freeze\n",
    "_ = pip._internal.operations.freeze.get_installed_distributions()\n",
    "print(sorted([\"%s==%s\" % (i.key, i.version) for i in _]))"
   ]
  },
  {
   "cell_type": "code",
   "execution_count": 10,
   "metadata": {},
   "outputs": [
    {
     "name": "stdout",
     "output_type": "stream",
     "text": [
      "['alabaster==0.7.12', 'anaconda-client==1.7.2', 'anaconda-navigator==1.9.7', 'anaconda-project==0.8.2', 'asn1crypto==0.24.0', 'astroid==2.2.5', 'astropy==3.1.2', 'atomicwrites==1.3.0', 'attrs==19.1.0', 'babel==2.6.0', 'backcall==0.1.0', 'backports.os==0.1.1', 'backports.shutil-get-terminal-size==1.0.0', 'beautifulsoup4==4.7.1', 'bitarray==0.8.3', 'bkcharts==0.2', 'bleach==3.1.0', 'bokeh==1.0.4', 'boto==2.49.0', 'bottleneck==1.2.1', 'certifi==2019.3.9', 'cffi==1.12.2', 'chardet==3.0.4', 'click==7.0', 'cloudpickle==0.8.0', 'clyent==1.2.2', 'colorama==0.4.1', 'comtypes==1.1.7', 'conda-build==3.17.8', 'conda-verify==3.1.1', 'conda==4.6.11', 'contextlib2==0.5.5', 'cryptography==2.6.1', 'cycler==0.10.0', 'cython==0.29.6', 'cytoolz==0.9.0.1', 'dask==1.1.4', 'decorator==4.4.0', 'defusedxml==0.5.0', 'distributed==1.26.0', 'docutils==0.14', 'entrypoints==0.3', 'et-xmlfile==1.0.1', 'fastcache==1.0.2', 'filelock==3.0.10', 'flask==1.0.2', 'future==0.17.1', 'gevent==1.4.0', 'glob2==0.6', 'greenlet==0.4.15', 'h5py==2.9.0', 'heapdict==1.0.0', 'html5lib==1.0.1', 'idna==2.8', 'imageio==2.5.0', 'imagesize==1.1.0', 'importlib-metadata==0.0.0', 'ipykernel==5.1.0', 'ipython-genutils==0.2.0', 'ipython==7.4.0', 'ipywidgets==7.4.2', 'isort==4.3.16', 'itsdangerous==1.1.0', 'jdcal==1.4', 'jedi==0.13.3', 'jinja2==2.10', 'jsonschema==3.0.1', 'jupyter-client==5.2.4', 'jupyter-console==6.0.0', 'jupyter-core==4.4.0', 'jupyter==1.0.0', 'jupyterlab-server==0.2.0', 'jupyterlab==0.35.4', 'keyring==18.0.0', 'kiwisolver==1.0.1', 'lazy-object-proxy==1.3.1', 'libarchive-c==2.8', 'llvmlite==0.28.0', 'locket==0.2.0', 'lxml==4.3.2', 'markupsafe==1.1.1', 'matplotlib==3.0.3', 'mccabe==0.6.1', 'menuinst==1.4.16', 'mistune==0.8.4', 'mkl-fft==1.0.10', 'mkl-random==1.0.2', 'more-itertools==6.0.0', 'mpmath==1.1.0', 'msgpack==0.6.1', 'multipledispatch==0.6.0', 'navigator-updater==0.2.1', 'nbconvert==5.4.1', 'nbformat==4.4.0', 'networkx==2.2', 'nltk==3.4', 'nose==1.3.7', 'notebook==5.7.8', 'numba==0.43.1', 'numexpr==2.6.9', 'numpy==1.16.2', 'numpydoc==0.8.0', 'olefile==0.46', 'openpyxl==2.6.1', 'packaging==19.0', 'pandas==0.24.2', 'pandocfilters==1.4.2', 'parso==0.3.4', 'partd==0.3.10', 'path.py==11.5.0', 'pathlib2==2.3.3', 'patsy==0.5.1', 'pep8==1.7.1', 'pickleshare==0.7.5', 'pillow==5.4.1', 'pip==19.0.3', 'pkginfo==1.5.0.1', 'pluggy==0.9.0', 'ply==3.11', 'prometheus-client==0.6.0', 'prompt-toolkit==2.0.9', 'psutil==5.6.1', 'py==1.8.0', 'pycodestyle==2.5.0', 'pycosat==0.6.3', 'pycparser==2.19', 'pycrypto==2.6.1', 'pycurl==7.43.0.2', 'pyflakes==2.1.1', 'pygments==2.3.1', 'pylint==2.3.1', 'pyodbc==4.0.26', 'pyopenssl==19.0.0', 'pyparsing==2.3.1', 'pyreadline==2.1', 'pyrsistent==0.14.11', 'pysocks==1.6.8', 'pytest-arraydiff==0.3', 'pytest-astropy==0.5.0', 'pytest-doctestplus==0.3.0', 'pytest-openfiles==0.3.2', 'pytest-remotedata==0.3.1', 'pytest==4.3.1', 'python-dateutil==2.8.0', 'pytz==2018.9', 'pywavelets==1.0.2', 'pywin32==223', 'pywinpty==0.5.5', 'pyyaml==5.1', 'pyzmq==18.0.0', 'qtawesome==0.5.7', 'qtconsole==4.4.3', 'qtpy==1.7.0', 'requests==2.21.0', 'rope==0.12.0', 'ruamel-yaml==0.15.46', 'scikit-image==0.14.2', 'scikit-learn==0.20.3', 'scipy==1.2.1', 'seaborn==0.9.0', 'send2trash==1.5.0', 'setuptools==40.8.0', 'simplegeneric==0.8.1', 'singledispatch==3.4.0.3', 'six==1.12.0', 'snowballstemmer==1.2.1', 'sortedcollections==1.1.2', 'sortedcontainers==2.1.0', 'soupsieve==1.8', 'sphinx==1.8.5', 'sphinxcontrib-websupport==1.1.0', 'spyder-kernels==0.4.2', 'spyder==3.3.3', 'sqlalchemy==1.3.1', 'statsmodels==0.9.0', 'sympy==1.3', 'tables==3.5.1', 'tblib==1.3.2', 'terminado==0.8.1', 'testpath==0.4.2', 'toolz==0.9.0', 'tornado==6.0.2', 'tqdm==4.31.1', 'traitlets==4.3.2', 'unicodecsv==0.14.1', 'urllib3==1.24.1', 'wcwidth==0.1.7', 'webencodings==0.5.1', 'werkzeug==0.14.1', 'wheel==0.33.1', 'widgetsnbextension==3.4.2', 'win-inet-pton==1.1.0', 'win-unicode-console==0.5', 'wincertstore==0.2', 'wrapt==1.11.1', 'xlrd==1.2.0', 'xlsxwriter==1.1.5', 'xlwings==0.15.4', 'xlwt==1.3.0', 'zict==0.1.4', 'zipp==0.3.3']\n"
     ]
    }
   ],
   "source": [
    "import pkg_resources\n",
    "installed_packages = pkg_resources.working_set\n",
    "installed_packages_list = sorted([\"%s==%s\" % (i.key, i.version)\n",
    "   for i in installed_packages])\n",
    "print(installed_packages_list)\n"
   ]
  },
  {
   "cell_type": "code",
   "execution_count": 1,
   "metadata": {},
   "outputs": [],
   "source": [
    "from mypackages import module"
   ]
  },
  {
   "cell_type": "code",
   "execution_count": 2,
   "metadata": {},
   "outputs": [
    {
     "name": "stdout",
     "output_type": "stream",
     "text": [
      "APSSDC\n"
     ]
    }
   ],
   "source": [
    "module.names(\"APSSDC\")"
   ]
  },
  {
   "cell_type": "code",
   "execution_count": 1,
   "metadata": {},
   "outputs": [
    {
     "name": "stdout",
     "output_type": "stream",
     "text": [
      "3\n",
      "4\n"
     ]
    }
   ],
   "source": [
    "from mypackages import module1"
   ]
  },
  {
   "cell_type": "code",
   "execution_count": 6,
   "metadata": {},
   "outputs": [
    {
     "name": "stdout",
     "output_type": "stream",
     "text": [
      "string\n",
      "string\n",
      "string\n",
      "digit\n",
      "digit\n",
      "digit\n"
     ]
    }
   ],
   "source": [
    "module1.check('abc123')"
   ]
  },
  {
   "cell_type": "code",
   "execution_count": 8,
   "metadata": {},
   "outputs": [
    {
     "name": "stdout",
     "output_type": "stream",
     "text": [
      "11\n"
     ]
    }
   ],
   "source": [
    "module1.add(4,7)"
   ]
  },
  {
   "cell_type": "code",
   "execution_count": 2,
   "metadata": {},
   "outputs": [
    {
     "name": "stdout",
     "output_type": "stream",
     "text": [
      "enter a value4\n",
      "enter b value5\n",
      "sum: 9\n"
     ]
    }
   ],
   "source": [
    "a = int(input(\"enter a value\"))\n",
    "b = int(input(\"enter b value\"))\n",
    "module1.adding(a,b)"
   ]
  },
  {
   "cell_type": "code",
   "execution_count": 2,
   "metadata": {},
   "outputs": [
    {
     "name": "stdout",
     "output_type": "stream",
     "text": [
      "enter value3\n",
      "enter value4\n",
      "7\n"
     ]
    }
   ],
   "source": [
    "module1.add1()"
   ]
  },
  {
   "cell_type": "code",
   "execution_count": 6,
   "metadata": {},
   "outputs": [
    {
     "name": "stdout",
     "output_type": "stream",
     "text": [
      "Package                            Version \n",
      "---------------------------------- --------\n",
      "alabaster                          0.7.12  \n",
      "anaconda-client                    1.7.2   \n",
      "anaconda-navigator                 1.9.7   \n",
      "anaconda-project                   0.8.2   \n",
      "asn1crypto                         0.24.0  \n",
      "astroid                            2.2.5   \n",
      "astropy                            3.1.2   \n",
      "atomicwrites                       1.3.0   \n",
      "attrs                              19.1.0  \n",
      "Babel                              2.6.0   \n",
      "backcall                           0.1.0   \n",
      "backports.os                       0.1.1   \n",
      "backports.shutil-get-terminal-size 1.0.0   \n",
      "beautifulsoup4                     4.7.1   \n",
      "bitarray                           0.8.3   \n",
      "bkcharts                           0.2     \n",
      "bleach                             3.1.0   \n",
      "bokeh                              1.0.4   \n",
      "boto                               2.49.0  \n",
      "Bottleneck                         1.2.1   \n",
      "certifi                            2019.3.9\n",
      "cffi                               1.12.2  \n",
      "chardet                            3.0.4   \n",
      "Click                              7.0     \n",
      "cloudpickle                        0.8.0   \n",
      "clyent                             1.2.2   \n",
      "colorama                           0.4.1   \n",
      "comtypes                           1.1.7   \n",
      "conda                              4.6.11  \n",
      "conda-build                        3.17.8  \n",
      "conda-verify                       3.1.1   \n",
      "contextlib2                        0.5.5   \n",
      "cryptography                       2.6.1   \n",
      "cycler                             0.10.0  \n",
      "Cython                             0.29.6  \n",
      "cytoolz                            0.9.0.1 \n",
      "dask                               1.1.4   \n",
      "decorator                          4.4.0   \n",
      "defusedxml                         0.5.0   \n",
      "distributed                        1.26.0  \n",
      "docutils                           0.14    \n",
      "entrypoints                        0.3     \n",
      "et-xmlfile                         1.0.1   \n",
      "fastcache                          1.0.2   \n",
      "filelock                           3.0.10  \n",
      "Flask                              1.0.2   \n",
      "future                             0.17.1  \n",
      "gevent                             1.4.0   \n",
      "glob2                              0.6     \n",
      "greenlet                           0.4.15  \n",
      "h5py                               2.9.0   \n",
      "heapdict                           1.0.0   \n",
      "html5lib                           1.0.1   \n",
      "idna                               2.8     \n",
      "imageio                            2.5.0   \n",
      "imagesize                          1.1.0   \n",
      "importlib-metadata                 0.0.0   \n",
      "ipykernel                          5.1.0   \n",
      "ipython                            7.4.0   \n",
      "ipython-genutils                   0.2.0   \n",
      "ipywidgets                         7.4.2   \n",
      "isort                              4.3.16  \n",
      "itsdangerous                       1.1.0   \n",
      "jdcal                              1.4     \n",
      "jedi                               0.13.3  \n",
      "Jinja2                             2.10    \n",
      "jsonschema                         3.0.1   \n",
      "jupyter                            1.0.0   \n",
      "jupyter-client                     5.2.4   \n",
      "jupyter-console                    6.0.0   \n",
      "jupyter-core                       4.4.0   \n",
      "jupyterlab                         0.35.4  \n",
      "jupyterlab-server                  0.2.0   \n",
      "keyring                            18.0.0  \n",
      "kiwisolver                         1.0.1   \n",
      "lazy-object-proxy                  1.3.1   \n",
      "libarchive-c                       2.8     \n",
      "llvmlite                           0.28.0  \n",
      "locket                             0.2.0   \n",
      "lxml                               4.3.2   \n",
      "MarkupSafe                         1.1.1   \n",
      "matplotlib                         3.0.3   \n",
      "mccabe                             0.6.1   \n",
      "menuinst                           1.4.16  \n",
      "mistune                            0.8.4   \n",
      "mkl-fft                            1.0.10  \n",
      "mkl-random                         1.0.2   \n",
      "more-itertools                     6.0.0   \n",
      "mpmath                             1.1.0   \n",
      "msgpack                            0.6.1   \n",
      "multipledispatch                   0.6.0   \n",
      "navigator-updater                  0.2.1   \n",
      "nbconvert                          5.4.1   \n",
      "nbformat                           4.4.0   \n",
      "networkx                           2.2     \n",
      "nltk                               3.4     \n",
      "nose                               1.3.7   \n",
      "notebook                           5.7.8   \n",
      "numba                              0.43.1  \n",
      "numexpr                            2.6.9   \n",
      "numpy                              1.16.2  \n",
      "numpydoc                           0.8.0   \n",
      "olefile                            0.46    \n",
      "openpyxl                           2.6.1   \n",
      "packaging                          19.0    \n",
      "pandas                             0.24.2  \n",
      "pandocfilters                      1.4.2   \n",
      "parso                              0.3.4   \n",
      "partd                              0.3.10  \n",
      "path.py                            11.5.0  \n",
      "pathlib2                           2.3.3   \n",
      "patsy                              0.5.1   \n",
      "pep8                               1.7.1   \n",
      "pickleshare                        0.7.5   \n",
      "Pillow                             5.4.1   \n",
      "pip                                19.0.3  \n",
      "pkginfo                            1.5.0.1 \n",
      "pluggy                             0.9.0   \n",
      "ply                                3.11    \n",
      "prometheus-client                  0.6.0   \n",
      "prompt-toolkit                     2.0.9   \n",
      "psutil                             5.6.1   \n",
      "py                                 1.8.0   \n",
      "pycodestyle                        2.5.0   \n",
      "pycosat                            0.6.3   \n",
      "pycparser                          2.19    \n",
      "pycrypto                           2.6.1   \n",
      "pycurl                             7.43.0.2\n",
      "pyflakes                           2.1.1   \n",
      "Pygments                           2.3.1   \n",
      "pylint                             2.3.1   \n",
      "pyodbc                             4.0.26  \n",
      "pyOpenSSL                          19.0.0  \n",
      "pyparsing                          2.3.1   \n",
      "pyreadline                         2.1     \n",
      "pyrsistent                         0.14.11 \n",
      "PySocks                            1.6.8   \n",
      "pytest                             4.3.1   \n",
      "pytest-arraydiff                   0.3     \n",
      "pytest-astropy                     0.5.0   \n",
      "pytest-doctestplus                 0.3.0   \n",
      "pytest-openfiles                   0.3.2   \n",
      "pytest-remotedata                  0.3.1   \n",
      "python-dateutil                    2.8.0   \n",
      "pytz                               2018.9  \n",
      "PyWavelets                         1.0.2   \n",
      "pywin32                            223     \n",
      "pywinpty                           0.5.5   \n",
      "PyYAML                             5.1     \n",
      "pyzmq                              18.0.0  \n",
      "QtAwesome                          0.5.7   \n",
      "qtconsole                          4.4.3   \n",
      "QtPy                               1.7.0   \n",
      "requests                           2.21.0  \n",
      "rope                               0.12.0  \n",
      "ruamel-yaml                        0.15.46 \n",
      "scikit-image                       0.14.2  \n",
      "scikit-learn                       0.20.3  \n",
      "scipy                              1.2.1   \n",
      "seaborn                            0.9.0   \n",
      "Send2Trash                         1.5.0   \n",
      "setuptools                         40.8.0  \n",
      "simplegeneric                      0.8.1   \n",
      "singledispatch                     3.4.0.3 \n",
      "six                                1.12.0  \n",
      "snowballstemmer                    1.2.1   \n",
      "sortedcollections                  1.1.2   \n",
      "sortedcontainers                   2.1.0   \n",
      "soupsieve                          1.8     \n",
      "Sphinx                             1.8.5   \n",
      "sphinxcontrib-websupport           1.1.0   \n",
      "spyder                             3.3.3   \n",
      "spyder-kernels                     0.4.2   \n",
      "SQLAlchemy                         1.3.1   \n",
      "statsmodels                        0.9.0   \n",
      "sympy                              1.3     \n",
      "tables                             3.5.1   \n",
      "tblib                              1.3.2   \n",
      "terminado                          0.8.1   \n",
      "testpath                           0.4.2   \n",
      "toolz                              0.9.0   \n",
      "tornado                            6.0.2   \n",
      "tqdm                               4.31.1  \n",
      "traitlets                          4.3.2   \n",
      "unicodecsv                         0.14.1  \n",
      "urllib3                            1.24.1  \n",
      "wcwidth                            0.1.7   \n",
      "webencodings                       0.5.1   \n",
      "Werkzeug                           0.14.1  \n",
      "wheel                              0.33.1  \n",
      "widgetsnbextension                 3.4.2   \n",
      "win-inet-pton                      1.1.0   \n",
      "win-unicode-console                0.5     \n",
      "wincertstore                       0.2     \n",
      "wrapt                              1.11.1  \n",
      "xlrd                               1.2.0   \n",
      "XlsxWriter                         1.1.5   \n",
      "xlwings                            0.15.4  \n",
      "xlwt                               1.3.0   \n",
      "zict                               0.1.4   \n",
      "zipp                               0.3.3   \n",
      "Note: you may need to restart the kernel to use updated packages.\n"
     ]
    }
   ],
   "source": [
    "pip list"
   ]
  },
  {
   "cell_type": "markdown",
   "metadata": {},
   "source": [
    "### File Handling\n",
    "\n",
    "- open(\"filename.txt\",\"mode\")\n",
    "- write()\n",
    "- read()\n",
    "- readlines()\n",
    "- close()"
   ]
  },
  {
   "cell_type": "markdown",
   "metadata": {},
   "source": [
    "### Modes\n",
    "\n",
    "- write mode ------>\"w\"\n",
    "- read mode -------> \"r\"\n",
    "- append mode ----------> \"a\""
   ]
  },
  {
   "cell_type": "code",
   "execution_count": 12,
   "metadata": {},
   "outputs": [
    {
     "name": "stdout",
     "output_type": "stream",
     "text": [
      "done\n",
      "Good evening to all\n"
     ]
    }
   ],
   "source": [
    "file = open(\"C:\\\\Users\\\\Alekhya\\\\Desktop\\\\Python-FDP3-13.07.2020--Afternoon\\\\21-07-2020(day7)\\\\doc.txt\",\"w\")\n",
    "data = \"Good evening to all\"\n",
    "file.write(data)\n",
    "\n",
    "print(\"done\")\n",
    "file.close()\n",
    "\n",
    "file1 = open(\"C:\\\\Users\\\\Alekhya\\\\Desktop\\\\Python-FDP3-13.07.2020--Afternoon\\\\21-07-2020(day7)\\\\doc.txt\",\"r\")\n",
    "data1 = file1.read()\n",
    "print(data1)\n",
    "file1.close()\n"
   ]
  },
  {
   "cell_type": "code",
   "execution_count": 13,
   "metadata": {},
   "outputs": [
    {
     "name": "stdout",
     "output_type": "stream",
     "text": [
      "Good evening to all\n"
     ]
    }
   ],
   "source": [
    "with open(\"C:\\\\Users\\\\Alekhya\\\\Desktop\\\\Python-FDP3-13.07.2020--Afternoon\\\\21-07-2020(day7)\\\\doc.txt\",\"r\") as file:\n",
    "    data = file.read()\n",
    "    print(data)\n",
    "    "
   ]
  },
  {
   "cell_type": "code",
   "execution_count": 16,
   "metadata": {},
   "outputs": [],
   "source": [
    "with open(\"C:\\\\Users\\\\Alekhya\\\\Desktop\\\\Python-FDP3-13.07.2020--Afternoon\\\\21-07-2020(day7)\\\\doc.txt\",\"w\") as file1:\n",
    "    data = \"Good afternoon\"\n",
    "    file1.write(data)\n",
    "    "
   ]
  },
  {
   "cell_type": "code",
   "execution_count": 18,
   "metadata": {},
   "outputs": [],
   "source": [
    "with open(\"C:\\\\Users\\\\Alekhya\\\\Desktop\\\\Python-FDP3-13.07.2020--Afternoon\\\\21-07-2020(day7)\\\\doc.txt\",\"a\") as file1:\n",
    "    data = \"\\nGood evening to all\"\n",
    "    file1.write(data)"
   ]
  },
  {
   "cell_type": "code",
   "execution_count": 19,
   "metadata": {},
   "outputs": [
    {
     "name": "stdout",
     "output_type": "stream",
     "text": [
      "Good afternoonGood evening to all\n",
      "\n",
      "Good evening to all\n"
     ]
    }
   ],
   "source": [
    "file = open(\"C:\\\\Users\\\\Alekhya\\\\Desktop\\\\Python-FDP3-13.07.2020--Afternoon\\\\21-07-2020(day7)\\\\doc.txt\",\"r\")\n",
    "for i in file:\n",
    "    print(i)"
   ]
  },
  {
   "cell_type": "markdown",
   "metadata": {},
   "source": [
    "- Task\n",
    "\n",
    "####  to read the data in reverse order\n",
    "#### split the data and find the length of the words\n",
    "\n"
   ]
  },
  {
   "cell_type": "code",
   "execution_count": 20,
   "metadata": {},
   "outputs": [
    {
     "name": "stdout",
     "output_type": "stream",
     "text": [
      "lla ot gnineve dooG\n",
      "lla ot gnineve dooGnoonretfa dooG\n"
     ]
    }
   ],
   "source": [
    "# To read the data in reverse order\n",
    "file = open(\"doc.txt\",\"r\")\n",
    "data = file.read()\n",
    "print(data[::-1])"
   ]
  },
  {
   "cell_type": "markdown",
   "metadata": {},
   "source": [
    "- r+ ---> read the data and write the data it wont create the new file\n",
    "- w+ --->if file exists it writes the data otherwise it will create the file and read the data"
   ]
  },
  {
   "cell_type": "code",
   "execution_count": 44,
   "metadata": {},
   "outputs": [
    {
     "name": "stdout",
     "output_type": "stream",
     "text": [
      "original data: Hii every one\n",
      "welcome to python programming python programming workshopHii every one\n",
      "welcome to python programming python programming python programming workshop\n",
      "splitting the data: ['welcome', 'to', 'python', 'programming', 'python', 'programming', 'workshopHii', 'every', 'one']\n",
      "after inserting: ['welcome', 'to', 'python programming', 'python', 'programming', 'python', 'programming', 'workshopHii', 'every', 'one']\n",
      "after joining data: welcome to python programming python programming python programming workshopHii every one\n",
      "data inserted: ['Hii every one', 'welcome to python programming python programming python programming workshopHii every one', 'welcome to python programming python programming python programming workshop']\n",
      "modified data: Hii every one\n",
      "welcome to python programming python programming python programming workshopHii every one\n",
      "welcome to python programming python programming python programming workshop\n"
     ]
    }
   ],
   "source": [
    "# To insert the data in particular position\n",
    "file = open(\"doc.txt\",\"r+\")\n",
    "data = file.read()\n",
    "print(\"original data:\",data)\n",
    "line = data.split(\"\\n\")[1]\n",
    "#print(line)\n",
    "line = line.split(\" \")\n",
    "print(\"splitting the data:\",line)\n",
    "line.insert(2,\"python programming\")\n",
    "print(\"after inserting:\",line)\n",
    "line = \" \".join(line)\n",
    "print(\"after joining data:\",line)\n",
    "data = data.split(\"\\n\")\n",
    "data[1] = line\n",
    "print(\"data inserted:\",data)\n",
    "data = \"\\n\".join(data)\n",
    "print(\"modified data:\",data)\n",
    "file.write(data)\n",
    "file.close()"
   ]
  },
  {
   "cell_type": "code",
   "execution_count": 43,
   "metadata": {},
   "outputs": [
    {
     "name": "stdout",
     "output_type": "stream",
     "text": [
      " ans  =\n",
      "\n",
      "   1.\n",
      "\n",
      "\n",
      "--> pwd\n",
      " ans  =\n",
      "\n",
      " C:\\Users\\Alekhya\\Documents\n",
      "\n",
      "\n",
      "--> 2\n",
      " ans  =\n",
      "\n",
      "   2.\n",
      "\n",
      "\n",
      "--> 2+3\n",
      " ans  =\n",
      "\n",
      "   5.\n",
      "\n",
      "\n",
      "--> a=4\n",
      " a  = \n",
      "\n",
      "   4.\n",
      "\n",
      "\n",
      "--> modulo(4,2)\n",
      " ans  =\n",
      "\n",
      "   0.\n",
      "\n",
      "\n",
      "--> %pi\n",
      " %pi  = \n",
      "\n",
      "   3.1415927\n",
      "\n",
      "\n",
      "--> %e\n",
      " %e  = \n",
      "\n",
      "   2.7182818\n",
      "\n",
      "\n",
      "--> exp(1)\n",
      " ans  =\n",
      "\n",
      "   2.7182818\n",
      "\n",
      "\n",
      "--> log(10)\n",
      " ans  =\n",
      "\n",
      "   2.3025851\n",
      "\n",
      "\n",
      "--> log2(2)\n",
      " ans  =\n",
      "\n",
      "   1.\n",
      "\n",
      "\n",
      "--> log10(10)\n",
      " ans  =\n",
      "\n",
      "   1.\n",
      "\n",
      "\n",
      "--> %i\n",
      " %i  = \n",
      "\n",
      "   i   \n",
      "\n",
      "\n",
      "--> a+%i*b\n",
      "\n",
      "Undefined variable: b\n",
      "\n",
      "--> a=5\n",
      " a  = \n",
      "\n",
      "   5.\n",
      "\n",
      "\n",
      "--> b=9\n",
      " b  = \n",
      "\n",
      "   9.\n",
      "\n",
      "\n",
      "--> a+%i*b\n",
      " ans  =\n",
      "\n",
      "   5. + 9.i\n",
      "\n",
      "\n",
      "--> c=a+%i*b\n",
      " c  = \n",
      "\n",
      "   5. + 9.i\n",
      "\n",
      "\n",
      "--> real(c)\n",
      " ans  =\n",
      "\n",
      "   5.\n",
      "\n",
      "\n",
      "--> imag(c)\n",
      " ans  =\n",
      "\n",
      "   9.\n",
      "\n",
      "\n",
      "--> %t\n",
      " ans  =\n",
      "\n",
      "  T\n",
      "\n",
      "\n",
      "--> %f\n",
      " ans  =\n",
      "\n",
      "  F\n",
      "\n",
      "\n",
      "--> date\n",
      " ans  =\n",
      "\n",
      " 14-Jul-2019\n",
      "\n",
      "\n",
      "--> clock\n",
      " ans  =\n",
      "\n",
      "   2019.   7.   14.   18.   16.   50.999998\n",
      "\n",
      "\n",
      "--> sqrt(144)\n",
      " ans  =\n",
      "\n",
      "   12.\n",
      "\n",
      "\n",
      "--> nthroot(144,5)\n",
      " ans  =\n",
      "\n",
      "   2.7019201\n",
      "\n",
      "\n",
      "--> datenum()\n",
      " ans  =\n",
      "\n",
      "   737620.76\n",
      "\n",
      "\n",
      "--> datenum(2019,7,14)-datenum(1996,9,2)\n",
      " ans  =\n",
      "\n",
      "   8350.\n",
      "\n",
      "\n",
      "--> calendar(2019,3)\n",
      " ans  =\n",
      "\n",
      "\n",
      "       ans(1)\n",
      "\n",
      " Mar 2019\n",
      "\n",
      "\n",
      "       ans(2)\n",
      "\n",
      "    M      Tu     W      Th     F     Sat     Sun\n",
      "\n",
      "\n",
      "       ans(3)\n",
      "\n",
      "   0.    0.    0.    0.    1.    2.    3. \n",
      "   4.    5.    6.    7.    8.    9.    10.\n",
      "   11.   12.   13.   14.   15.   16.   17.\n",
      "   18.   19.   20.   21.   22.   23.   24.\n",
      "   25.   26.   27.   28.   29.   30.   31.\n",
      "   0.    0.    0.    0.    0.    0.    0. \n",
      "\n",
      "\n",
      "\n",
      "--> clc\n",
      "\n",
      "--> quit\n",
      "\n"
     ]
    }
   ],
   "source": [
    "with open(\"C:/Users/Alekhya/Documents/alekhya.txt\",\"r\") as file:\n",
    "    data = file.read()\n",
    "    print(data)"
   ]
  },
  {
   "cell_type": "code",
   "execution_count": 52,
   "metadata": {},
   "outputs": [],
   "source": [
    "# to create contact application\n",
    "def contact(name,phonenumber,phonenumber1):\n",
    "    with open(\"sample.txt\",\"a\") as file:\n",
    "        data = file.write(name+\" \"+str(phonenumber)+\" \"+str(phonenumber1)+\"\\n\")\n",
    "        file.close()\n",
    "        return \"contact saved\""
   ]
  },
  {
   "cell_type": "code",
   "execution_count": 56,
   "metadata": {},
   "outputs": [
    {
     "data": {
      "text/plain": [
       "'contact saved'"
      ]
     },
     "execution_count": 56,
     "metadata": {},
     "output_type": "execute_result"
    }
   ],
   "source": [
    "contact(\"Alekhya\",9876543210,\"901020a3456\")"
   ]
  },
  {
   "cell_type": "code",
   "execution_count": 54,
   "metadata": {},
   "outputs": [
    {
     "data": {
      "text/plain": [
       "'contact saved'"
      ]
     },
     "execution_count": 54,
     "metadata": {},
     "output_type": "execute_result"
    }
   ],
   "source": [
    "contact(\"Narmada\",907865432123,45678902452)"
   ]
  },
  {
   "cell_type": "markdown",
   "metadata": {},
   "source": [
    "- Task\n",
    "#### to check weather the given phone number is valid or notvalid"
   ]
  },
  {
   "cell_type": "code",
   "execution_count": null,
   "metadata": {},
   "outputs": [],
   "source": []
  }
 ],
 "metadata": {
  "kernelspec": {
   "display_name": "Python 3",
   "language": "python",
   "name": "python3"
  },
  "language_info": {
   "codemirror_mode": {
    "name": "ipython",
    "version": 3
   },
   "file_extension": ".py",
   "mimetype": "text/x-python",
   "name": "python",
   "nbconvert_exporter": "python",
   "pygments_lexer": "ipython3",
   "version": "3.7.3"
  }
 },
 "nbformat": 4,
 "nbformat_minor": 2
}
