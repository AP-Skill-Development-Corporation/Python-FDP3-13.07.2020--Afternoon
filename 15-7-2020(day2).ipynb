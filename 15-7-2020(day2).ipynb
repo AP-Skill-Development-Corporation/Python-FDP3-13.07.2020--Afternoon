{
 "cells": [
  {
   "cell_type": "markdown",
   "metadata": {},
   "source": [
    "### Conditional Statements:\n",
    "        "
   ]
  },
  {
   "cell_type": "markdown",
   "metadata": {},
   "source": [
    "### if:\n",
    "    - syntax of if :\n",
    "            if condition:\n",
    "                body of if"
   ]
  },
  {
   "cell_type": "code",
   "execution_count": 2,
   "metadata": {},
   "outputs": [
    {
     "name": "stdout",
     "output_type": "stream",
     "text": [
      "It is positive number..\n",
      "this is python fdp class\n"
     ]
    }
   ],
   "source": [
    "# To check if the given number positive number or not?\n",
    "n=12\n",
    "if n>0:\n",
    "    print('It is positive number..')\n",
    "print(\"this is python fdp class\")"
   ]
  },
  {
   "cell_type": "markdown",
   "metadata": {},
   "source": [
    "### if-else:\n",
    "        - syntax:\n",
    "                if condition:\n",
    "                    body of if\n",
    "                else:\n",
    "                    body of else"
   ]
  },
  {
   "cell_type": "code",
   "execution_count": 7,
   "metadata": {},
   "outputs": [
    {
     "name": "stdout",
     "output_type": "stream",
     "text": [
      "-32 is negative number\n"
     ]
    }
   ],
   "source": [
    "# To check if the given number is positive number or negative number?\n",
    "n1=-32\n",
    "if n1>=0:\n",
    "    print(n1,\"It is positive number\")\n",
    "else:\n",
    "    print(n1,\"is negative number\")"
   ]
  },
  {
   "cell_type": "markdown",
   "metadata": {},
   "source": [
    "### dynamic input reading value:\n"
   ]
  },
  {
   "cell_type": "code",
   "execution_count": 9,
   "metadata": {},
   "outputs": [
    {
     "name": "stdout",
     "output_type": "stream",
     "text": [
      "1234\n",
      "1234\n",
      "<class 'str'>\n"
     ]
    }
   ],
   "source": [
    "a=input()\n",
    "print(a)\n",
    "print(type(a))"
   ]
  },
  {
   "cell_type": "code",
   "execution_count": 11,
   "metadata": {},
   "outputs": [
    {
     "name": "stdout",
     "output_type": "stream",
     "text": [
      "Enter b value123\n",
      "123\n",
      "<class 'int'>\n"
     ]
    }
   ],
   "source": [
    "b=int(input(\"Enter b value\"))\n",
    "print(b)\n",
    "print(type(b))"
   ]
  },
  {
   "cell_type": "markdown",
   "metadata": {},
   "source": [
    "### nested if-else:\n",
    "        -syntax:\n",
    "                if condition:\n",
    "                    if condition:\n",
    "                        body of if\n",
    "                    else:\n",
    "                        body of else\n",
    "                else:\n",
    "                    body of else"
   ]
  },
  {
   "cell_type": "code",
   "execution_count": 14,
   "metadata": {},
   "outputs": [
    {
     "name": "stdout",
     "output_type": "stream",
     "text": [
      "Enter n1 value-3\n",
      "It is a negative number\n"
     ]
    }
   ],
   "source": [
    "# To check if the given number is positive number or zero or negative number?\n",
    "n2=int(input(\"Enter n1 value\"))\n",
    "if n2>=0:#n2=0,3,-3 true,false\n",
    "    if n2==0:#0==0 true,false\n",
    "        print(\"it is zero\")\n",
    "    else:\n",
    "        print(\"It is a positive number\")\n",
    "else:\n",
    "    print(\"It is a negative number\")\n",
    "\n",
    "    "
   ]
  },
  {
   "cell_type": "markdown",
   "metadata": {},
   "source": [
    "### elif:\n",
    "    -syntax\n",
    "        if condition:\n",
    "            body of if\n",
    "        elif condition:\n",
    "            body of elif\n",
    "        else:\n",
    "            body of else"
   ]
  },
  {
   "cell_type": "code",
   "execution_count": null,
   "metadata": {},
   "outputs": [],
   "source": [
    "#To find the biggest of three numbers?\n",
    "'''\n",
    "input: 10 20 30\n",
    "output: 30 is bigger than 10 and 20\n",
    "'''\n",
    "a=int(input(\"Enter a value\"))\n",
    "b=int(input(\"Enter b value\"))\n",
    "c=int(input(\"Enter c value\"))\n",
    "if a>b and a>c:\n",
    "    print(a,\" is bigger than \",b,\" and \",c)\n",
    "elif b>c:\n",
    "    print(b,\" is bigger than \",a,\" and \",c)\n",
    "else:\n",
    "    print(c,\" is bigger than \",a,\" and \",b)\n",
    "\n",
    "    \n",
    "    "
   ]
  },
  {
   "cell_type": "code",
   "execution_count": null,
   "metadata": {},
   "outputs": [],
   "source": [
    "# 1. To check if the given number is even or not?\n",
    "# 2.To check if the given character is vowel or consonant?\n",
    "# 3. To check if the given year is leap year or not?\n",
    "# 4. To check if the given number ids divisibile by 5 and 55?\n",
    "# 5. To find the biggest of two numbers?\n",
    "# 6.To convert the dollers to rupees?\n",
    "# 7. To convert the rupees to dollers?\n",
    "# 8. To print student grading system?\n",
    "'''\n",
    "    100-80=>'A grade'\n",
    "    79-60=>'B grade'\n",
    "    59-40=>'C grade'\n",
    "    39-35=>'D grade'\n",
    "    34-0=>'fail'\n",
    "    above 100=>your entered invalid marks   \n",
    "'''\n",
    "# 9. To check if the age is eligible for vote or not?\n",
    "# 10. To print week days?"
   ]
  },
  {
   "cell_type": "markdown",
   "metadata": {},
   "source": [
    "### loop:\n",
    "        - for\n",
    "            syntax: for variable_name in sequence:\n",
    "                        body of for\n",
    "                  ex: for i in range(10):\n",
    "                      \n",
    "        - while"
   ]
  },
  {
   "cell_type": "code",
   "execution_count": 6,
   "metadata": {},
   "outputs": [
    {
     "name": "stdout",
     "output_type": "stream",
     "text": [
      "0 1 2 3 4 5 6 7 8 9 "
     ]
    }
   ],
   "source": [
    "# To print 1 to 10 natural numbers in ascending order?\n",
    "# range(start,stop,step)(0,user_input,1)\n",
    "for i in range(10):#i=0\n",
    "    print(i,end=' ')"
   ]
  },
  {
   "cell_type": "code",
   "execution_count": 10,
   "metadata": {},
   "outputs": [
    {
     "name": "stdout",
     "output_type": "stream",
     "text": [
      "10 9 8 7 6 5 4 3 2 1 "
     ]
    }
   ],
   "source": [
    "# To print 1 to 10 natural numbers in descending order?\n",
    "for i in range(10,0,-1):\n",
    "    print(i,end=\" \")"
   ]
  },
  {
   "cell_type": "code",
   "execution_count": 21,
   "metadata": {},
   "outputs": [
    {
     "name": "stdout",
     "output_type": "stream",
     "text": [
      "1 3 5 7 9 "
     ]
    }
   ],
   "source": [
    "# To print even numbers in between 1 to 10?\n",
    "# for i in range(1,11):\n",
    "#     if i%2==0:\n",
    "#         print(i,end=' ')\n",
    "for i in range(1,10,2):\n",
    "    print(i,end=' ')"
   ]
  },
  {
   "cell_type": "code",
   "execution_count": 22,
   "metadata": {},
   "outputs": [
    {
     "name": "stdout",
     "output_type": "stream",
     "text": [
      "1 6 11 "
     ]
    }
   ],
   "source": [
    "for i in range(1,15,5):\n",
    "    print(i,end=' ')"
   ]
  },
  {
   "cell_type": "code",
   "execution_count": 23,
   "metadata": {},
   "outputs": [
    {
     "name": "stdout",
     "output_type": "stream",
     "text": [
      "2 4 6 8 10 "
     ]
    }
   ],
   "source": [
    "for i in range(2,11,2):\n",
    "    print(i,end=' ')"
   ]
  },
  {
   "cell_type": "code",
   "execution_count": 24,
   "metadata": {},
   "outputs": [
    {
     "name": "stdout",
     "output_type": "stream",
     "text": [
      "Enter n value4\n",
      "0 1 2 3 "
     ]
    }
   ],
   "source": [
    "n=int(input(\"Enter n value\"))\n",
    "for i in range(n):\n",
    "    print(i,end=' ')"
   ]
  },
  {
   "cell_type": "markdown",
   "metadata": {},
   "source": [
    "for variable_name in range(values):\n",
    "    for variable_name in range(values):\n",
    "        body of inner for loop\n",
    "    body of outer for loop\n"
   ]
  },
  {
   "cell_type": "code",
   "execution_count": 27,
   "metadata": {},
   "outputs": [
    {
     "name": "stdout",
     "output_type": "stream",
     "text": [
      "0 1 2 3 \n",
      "3 last value\n"
     ]
    }
   ],
   "source": [
    "for i in range(0,4):\n",
    "    print(i,end=' ')\n",
    "print()\n",
    "print(i,'last value')"
   ]
  },
  {
   "cell_type": "code",
   "execution_count": 35,
   "metadata": {},
   "outputs": [
    {
     "name": "stdout",
     "output_type": "stream",
     "text": [
      "Enter n value17\n",
      "17  is a prime number\n"
     ]
    }
   ],
   "source": [
    "# To check if the given number is prime number or not?\n",
    "n=int(input(\"Enter n value\"))# n=5\n",
    "count=0\n",
    "for i in range(1,n+1):#i=1,2,3,4,5\n",
    "    if n%i==0: #5%1=>0==0t,5%2==0f,5%3==0f,5%4==0f,5%5==0=>0==0t\n",
    "        count=count+1 # count=0+1=>1,1+1=>2\n",
    "if count==2:\n",
    "    print(n,\" is a prime number\")\n",
    "else:\n",
    "    print(n,\" is not a prime number\")"
   ]
  },
  {
   "cell_type": "code",
   "execution_count": 41,
   "metadata": {},
   "outputs": [
    {
     "name": "stdout",
     "output_type": "stream",
     "text": [
      "\n",
      "1 \n",
      "1 2 \n",
      "1 2 3 \n",
      "1 2 3 4 \n",
      "1 2 3 4 5 \n"
     ]
    }
   ],
   "source": [
    "# for k in range(1,7):\n",
    "#     for j in range(1,k):\n",
    "#         print(j,end=' ')\n",
    "#     print()"
   ]
  },
  {
   "cell_type": "code",
   "execution_count": 46,
   "metadata": {
    "collapsed": true
   },
   "outputs": [
    {
     "name": "stdout",
     "output_type": "stream",
     "text": [
      "hello world\n"
     ]
    }
   ],
   "source": [
    "print(\"hello\",end=' ')\n",
    "print(\"world\")"
   ]
  },
  {
   "cell_type": "code",
   "execution_count": 13,
   "metadata": {},
   "outputs": [
    {
     "name": "stdout",
     "output_type": "stream",
     "text": [
      "Enter lower bound10\n",
      "Enter upper bound20\n",
      "11 13 17 19 "
     ]
    }
   ],
   "source": [
    "# To print prime numbers in between range 20 45?\n",
    "n1=int(input(\"Enter lower bound\"))\n",
    "n2=int(input(\"Enter upper bound\"))\n",
    "for i in range(n1,n2):#1,2,3,4,5,6,\n",
    "    count=0\n",
    "    for j in range(1,i+1):\n",
    "        if i%j==0:\n",
    "            count=count+1    \n",
    "    if count==2:\n",
    "        print(i,end=' ')\n"
   ]
  },
  {
   "cell_type": "code",
   "execution_count": null,
   "metadata": {},
   "outputs": [],
   "source": [
    "# 1. To print the factors of a given number?\n",
    "# 2. To print the count the even numbers in between 1 to n?\n",
    "# 3. To print the fibonacci series 0 to n?0 1 1 2 3 5\n",
    "# 4. To print nth table upto 1 to 10?\n",
    "# 5. To print the nth term fibonacci series?n=3=>2"
   ]
  },
  {
   "cell_type": "markdown",
   "metadata": {},
   "source": [
    "### break"
   ]
  },
  {
   "cell_type": "code",
   "execution_count": 14,
   "metadata": {},
   "outputs": [
    {
     "name": "stdout",
     "output_type": "stream",
     "text": [
      "1 2 3 4 "
     ]
    }
   ],
   "source": [
    "for i in range(1,10):\n",
    "    if i==5:#5==5=>True \n",
    "        break\n",
    "    print(i,end=' ')"
   ]
  },
  {
   "cell_type": "markdown",
   "metadata": {},
   "source": [
    "### continue"
   ]
  },
  {
   "cell_type": "code",
   "execution_count": 16,
   "metadata": {},
   "outputs": [
    {
     "name": "stdout",
     "output_type": "stream",
     "text": [
      "1 2 3 4 6 7 8 9 "
     ]
    }
   ],
   "source": [
    "for i in range(1,10):\n",
    "    if i==5:\n",
    "        continue\n",
    "    print(i,end=' ')"
   ]
  },
  {
   "cell_type": "code",
   "execution_count": 18,
   "metadata": {},
   "outputs": [
    {
     "name": "stdout",
     "output_type": "stream",
     "text": [
      "2 4 6 8 10 12 14 16 18 20 22 24 26 28 30 32 34 36 38 40 42 44 46 48 50 52 54 56 58 60 62 64 66 68 70 72 74 76 78 80 82 84 86 88 90 92 94 96 98 "
     ]
    }
   ],
   "source": [
    "for i in range(1,100):\n",
    "    if i%2!=0:\n",
    "        continue\n",
    "    print(i,end=' ')"
   ]
  },
  {
   "cell_type": "markdown",
   "metadata": {},
   "source": [
    "### while:\n",
    "        - syntax: \n",
    "                intiliazation\n",
    "                while condition:\n",
    "                    statements\n",
    "                    any updation"
   ]
  },
  {
   "cell_type": "code",
   "execution_count": 23,
   "metadata": {},
   "outputs": [
    {
     "name": "stdout",
     "output_type": "stream",
     "text": [
      "3\n"
     ]
    }
   ],
   "source": [
    "# To count the number of digits of a given number?\n",
    "n=567\n",
    "count=0\n",
    "while n!=0:\n",
    "    count=count+1\n",
    "    n=n//10\n",
    "    #print(n,end=' ')\n",
    "print(count)\n",
    "    "
   ]
  },
  {
   "cell_type": "code",
   "execution_count": null,
   "metadata": {},
   "outputs": [],
   "source": [
    "#1.To print reverese of a number?\n",
    "#2.To check if the given number is armstrong number or not?\n",
    "#3.To print first digit and last digit of given number?\n",
    "#4.To print only prime digits of a given number?\n",
    "#5.To print only even digits of a given number?\n",
    "#6.To check if the given number is palindromw or not?\n",
    "#7.To print sum of digits of a given number?\n",
    "#8.To print sum of odd digits of a given number?\n",
    "#9.To check if thw number perfect number or not?\n",
    "'''\n",
    "input:n=6=>1,2,3=>1+2+3=>6\n",
    "'''\n",
    "#10. To print perfect numbers in between range of 1 to 100?\n"
   ]
  }
 ],
 "metadata": {
  "kernelspec": {
   "display_name": "Python 3",
   "language": "python",
   "name": "python3"
  },
  "language_info": {
   "codemirror_mode": {
    "name": "ipython",
    "version": 3
   },
   "file_extension": ".py",
   "mimetype": "text/x-python",
   "name": "python",
   "nbconvert_exporter": "python",
   "pygments_lexer": "ipython3",
   "version": "3.7.3"
  }
 },
 "nbformat": 4,
 "nbformat_minor": 2
}
