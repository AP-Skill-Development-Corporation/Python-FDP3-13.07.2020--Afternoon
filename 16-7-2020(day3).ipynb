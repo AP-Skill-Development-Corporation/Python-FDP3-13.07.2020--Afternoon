{
 "cells": [
  {
   "cell_type": "markdown",
   "metadata": {},
   "source": [
    "### functions:\n",
    "        - function is a set of statements, it can perform one specific    task.\n",
    "        - in python functions are deloveped by using 'def' keyword.\n",
    "          \n",
    "        - 1)pre-defined functions\n",
    "                ex:print,sum,max,min....\n",
    "        - 2) user-defined functions\n",
    "            \n",
    "            i) with arguments and with return values.\n",
    "            ii) with arguments and with out return values.\n",
    "            iii) with out arguments and with return values.\n",
    "            iv) with out arguments and with out return values.\n",
    "        "
   ]
  },
  {
   "cell_type": "code",
   "execution_count": 1,
   "metadata": {
    "collapsed": true
   },
   "outputs": [
    {
     "data": {
      "text/plain": [
       "'\\n    def function_name(argument1,argument2...argumentn):\\n        body of function\\n        return any_value\\n'"
      ]
     },
     "execution_count": 1,
     "metadata": {},
     "output_type": "execute_result"
    }
   ],
   "source": [
    "#1.with arguments and with return values.\n",
    "#syntax:-\n",
    "'''\n",
    "    def function_name(argument1,argument2...argumentn):\n",
    "        body of function\n",
    "        return any_value\n",
    "'''"
   ]
  },
  {
   "cell_type": "code",
   "execution_count": 3,
   "metadata": {},
   "outputs": [
    {
     "name": "stdout",
     "output_type": "stream",
     "text": [
      "Enter a value12\n",
      "Enter b value13\n",
      "25\n"
     ]
    }
   ],
   "source": [
    "#1.function to create to find addition of two numbers?\n",
    "def addition(a,b):#1000,2345\n",
    "    return a+b\n",
    "a=int(input(\"Enter a value\"))#1000\n",
    "b=int(input(\"Enter b value\"))#2345\n",
    "print(addition(a,b))#"
   ]
  },
  {
   "cell_type": "code",
   "execution_count": null,
   "metadata": {},
   "outputs": [],
   "source": [
    "#2.with arguments and with out return values.\n",
    "# syntax:\n",
    "'''\n",
    "    def function_name(argument1,arg2....):\n",
    "        body of function\n",
    "        printing value\n",
    "'''\n"
   ]
  },
  {
   "cell_type": "code",
   "execution_count": 4,
   "metadata": {},
   "outputs": [
    {
     "name": "stdout",
     "output_type": "stream",
     "text": [
      "Enter p value10\n",
      "Enter q value20\n",
      "200\n"
     ]
    }
   ],
   "source": [
    "#2.function create to find multiplication of two numbers?\n",
    "def multiplication(p,q):\n",
    "    print(p*q)\n",
    "p=int(input(\"Enter p value\"))\n",
    "q=int(input(\"Enter q value\"))\n",
    "multiplication(p,q)"
   ]
  },
  {
   "cell_type": "code",
   "execution_count": null,
   "metadata": {},
   "outputs": [],
   "source": [
    "#3.with out arguments and with return values?\n",
    "'''\n",
    "    reading input values.\n",
    "    def function_name():\n",
    "        return any_value\n",
    "'''"
   ]
  },
  {
   "cell_type": "code",
   "execution_count": 6,
   "metadata": {},
   "outputs": [
    {
     "name": "stdout",
     "output_type": "stream",
     "text": [
      "Enter a value100\n",
      "Enter b value3\n",
      "33\n"
     ]
    }
   ],
   "source": [
    "a=int(input(\"Enter a value\"))\n",
    "b=int(input(\"Enter b value\"))\n",
    "def division():#function definition\n",
    "    return a//b #function body\n",
    "print(division())#function calling"
   ]
  },
  {
   "cell_type": "code",
   "execution_count": null,
   "metadata": {},
   "outputs": [],
   "source": [
    "#4.with out arguments and with out return values...\n",
    "'''\n",
    "    reading input values\n",
    "    def function_name():\n",
    "        body of function\n",
    "        printing value\n",
    "'''"
   ]
  },
  {
   "cell_type": "code",
   "execution_count": 13,
   "metadata": {},
   "outputs": [
    {
     "name": "stdout",
     "output_type": "stream",
     "text": [
      "Enter n value12\n",
      "479001600\n"
     ]
    }
   ],
   "source": [
    "#4.function to create to find the factorial of agiven number?\n",
    "def factorial():\n",
    "    #Docstring\n",
    "    '''\n",
    "    this function is used to find the factorial of a given number.\n",
    "    '''\n",
    "    fact=1 #fact=1\n",
    "    for i in range(1,n+1):#i=1,2,3,4,5,6\n",
    "        fact=fact*i#1*1=1,1*2=2,2*3=6,6*4=24,24*5=120\n",
    "    print(fact)#120\n",
    "n=int(input(\"Enter n value\"))#n=5\n",
    "factorial()#factorial()"
   ]
  },
  {
   "cell_type": "code",
   "execution_count": 12,
   "metadata": {},
   "outputs": [
    {
     "name": "stdout",
     "output_type": "stream",
     "text": [
      "Help on built-in function sum in module builtins:\n",
      "\n",
      "sum(iterable, start=0, /)\n",
      "    Return the sum of a 'start' value (default: 0) plus an iterable of numbers\n",
      "    \n",
      "    When the iterable is empty, return the start value.\n",
      "    This function is intended specifically for use with numeric values and may\n",
      "    reject non-numeric types.\n",
      "\n"
     ]
    }
   ],
   "source": [
    "help(sum)"
   ]
  },
  {
   "cell_type": "code",
   "execution_count": 14,
   "metadata": {},
   "outputs": [
    {
     "name": "stdout",
     "output_type": "stream",
     "text": [
      "Help on function factorial in module __main__:\n",
      "\n",
      "factorial()\n",
      "    this function is used to find the factorial of a given number.\n",
      "\n"
     ]
    }
   ],
   "source": [
    "help(factorial)"
   ]
  },
  {
   "cell_type": "code",
   "execution_count": 15,
   "metadata": {},
   "outputs": [
    {
     "name": "stdout",
     "output_type": "stream",
     "text": [
      "Help on function addition in module __main__:\n",
      "\n",
      "addition(a, b)\n",
      "    #1.function to create to find addition of two numbers?\n",
      "\n"
     ]
    }
   ],
   "source": [
    "help(addition)"
   ]
  },
  {
   "cell_type": "code",
   "execution_count": 18,
   "metadata": {},
   "outputs": [
    {
     "ename": "TypeError",
     "evalue": "addition() takes 2 positional arguments but 3 were given",
     "output_type": "error",
     "traceback": [
      "\u001b[1;31m---------------------------------------------------------------------------\u001b[0m",
      "\u001b[1;31mTypeError\u001b[0m                                 Traceback (most recent call last)",
      "\u001b[1;32m<ipython-input-18-15d9c2251f36>\u001b[0m in \u001b[0;36m<module>\u001b[1;34m\u001b[0m\n\u001b[1;32m----> 1\u001b[1;33m \u001b[0maddition\u001b[0m\u001b[1;33m(\u001b[0m\u001b[1;36m1\u001b[0m\u001b[1;33m,\u001b[0m\u001b[1;36m2\u001b[0m\u001b[1;33m,\u001b[0m\u001b[1;36m3\u001b[0m\u001b[1;33m)\u001b[0m\u001b[1;33m\u001b[0m\u001b[1;33m\u001b[0m\u001b[0m\n\u001b[0m",
      "\u001b[1;31mTypeError\u001b[0m: addition() takes 2 positional arguments but 3 were given"
     ]
    }
   ],
   "source": [
    "addition(1)"
   ]
  },
  {
   "cell_type": "markdown",
   "metadata": {},
   "source": [
    "### variable length arguments:\n",
    "    - By using '*' symbal we can develop variable length arguments.\n",
    "    - this function returns tuple of values..."
   ]
  },
  {
   "cell_type": "code",
   "execution_count": 19,
   "metadata": {},
   "outputs": [
    {
     "name": "stdout",
     "output_type": "stream",
     "text": [
      "(10,)\n"
     ]
    }
   ],
   "source": [
    "def sample(*a):\n",
    "    print(a)\n",
    "sample(10)"
   ]
  },
  {
   "cell_type": "code",
   "execution_count": 22,
   "metadata": {},
   "outputs": [
    {
     "name": "stdout",
     "output_type": "stream",
     "text": [
      "(10, 20, 30, 40, 50, 23, 45)\n"
     ]
    }
   ],
   "source": [
    "sample(10,20,30,40,50,23,45)"
   ]
  },
  {
   "cell_type": "code",
   "execution_count": 30,
   "metadata": {},
   "outputs": [
    {
     "name": "stdout",
     "output_type": "stream",
     "text": [
      "(10, 23, 45)\n"
     ]
    }
   ],
   "source": [
    "def sample1(*a):\n",
    "    print(a)\n",
    "sample1(10,23,45)"
   ]
  },
  {
   "cell_type": "markdown",
   "metadata": {},
   "source": [
    "### Default arguments non default arguments"
   ]
  },
  {
   "cell_type": "code",
   "execution_count": 32,
   "metadata": {},
   "outputs": [
    {
     "name": "stdout",
     "output_type": "stream",
     "text": [
      "4 5\n"
     ]
    }
   ],
   "source": [
    "def example(a,b=10):\n",
    "    print(a,b)\n",
    "example(4,5)"
   ]
  },
  {
   "cell_type": "code",
   "execution_count": 33,
   "metadata": {},
   "outputs": [
    {
     "ename": "SyntaxError",
     "evalue": "non-default argument follows default argument (<ipython-input-33-e26ec1e7887c>, line 1)",
     "output_type": "error",
     "traceback": [
      "\u001b[1;36m  File \u001b[1;32m\"<ipython-input-33-e26ec1e7887c>\"\u001b[1;36m, line \u001b[1;32m1\u001b[0m\n\u001b[1;33m    def example1(b=10,a):\u001b[0m\n\u001b[1;37m                ^\u001b[0m\n\u001b[1;31mSyntaxError\u001b[0m\u001b[1;31m:\u001b[0m non-default argument follows default argument\n"
     ]
    }
   ],
   "source": [
    "def example1(b=10,a):#a->non-default argument,b=default argument\n",
    "    print(b,a)\n",
    "example1(20)"
   ]
  },
  {
   "cell_type": "code",
   "execution_count": 36,
   "metadata": {},
   "outputs": [
    {
     "ename": "SyntaxError",
     "evalue": "non-default argument follows default argument (<ipython-input-36-06c54d5bcb65>, line 1)",
     "output_type": "error",
     "traceback": [
      "\u001b[1;36m  File \u001b[1;32m\"<ipython-input-36-06c54d5bcb65>\"\u001b[1;36m, line \u001b[1;32m1\u001b[0m\n\u001b[1;33m    def sample2(a,b=10,c):\u001b[0m\n\u001b[1;37m               ^\u001b[0m\n\u001b[1;31mSyntaxError\u001b[0m\u001b[1;31m:\u001b[0m non-default argument follows default argument\n"
     ]
    }
   ],
   "source": [
    "def sample2(a,b=10):\n",
    "    print(a,b,c)\n",
    "sample2(10,30)"
   ]
  },
  {
   "cell_type": "markdown",
   "metadata": {},
   "source": [
    "### keyword length arguments:\n",
    "        - By using '**' symbal we can develop the keyword length argumets.\n",
    "        - This function returns dictionary of values.."
   ]
  },
  {
   "cell_type": "code",
   "execution_count": 38,
   "metadata": {},
   "outputs": [
    {
     "name": "stdout",
     "output_type": "stream",
     "text": [
      "{'college_name': 'srit', 'location': 'atp'}\n"
     ]
    }
   ],
   "source": [
    "def hello(**k):\n",
    "    print(k)\n",
    "hello(college_name='srit',location='atp')"
   ]
  },
  {
   "cell_type": "code",
   "execution_count": null,
   "metadata": {},
   "outputs": [],
   "source": []
  }
 ],
 "metadata": {
  "kernelspec": {
   "display_name": "Python 3",
   "language": "python",
   "name": "python3"
  },
  "language_info": {
   "codemirror_mode": {
    "name": "ipython",
    "version": 3
   },
   "file_extension": ".py",
   "mimetype": "text/x-python",
   "name": "python",
   "nbconvert_exporter": "python",
   "pygments_lexer": "ipython3",
   "version": "3.7.3"
  }
 },
 "nbformat": 4,
 "nbformat_minor": 2
}
